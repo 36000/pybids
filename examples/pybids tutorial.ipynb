{
 "cells": [
  {
   "cell_type": "markdown",
   "metadata": {},
   "source": [
    "# Introduction to `pybids`\n",
    "\n",
    "[`pybids`](https://github.com/bids-standard/pybids) is a tool to query, summarize and manipulate data using the BIDS standard. \n",
    "In this tutorial we will use a `pybids` test dataset to illustrate some of the functionality of `pybids.layout`"
   ]
  },
  {
   "cell_type": "code",
   "execution_count": 1,
   "metadata": {
    "ExecuteTime": {
     "end_time": "2018-08-01T20:05:23.628184Z",
     "start_time": "2018-08-01T20:05:22.060937Z"
    },
    "scrolled": true
   },
   "outputs": [],
   "source": [
    "import bids.layout\n",
    "import bids.tests\n",
    "import os"
   ]
  },
  {
   "cell_type": "markdown",
   "metadata": {},
   "source": [
    "## `BIDSLayout`\n",
    "\n",
    "One of the most fundamental tools offered by pybids is `BIDSLayout`. `BIDSLayout` is a lightweight class to represent a BIDS project file tree."
   ]
  },
  {
   "cell_type": "code",
   "execution_count": 2,
   "metadata": {
    "ExecuteTime": {
     "end_time": "2018-08-01T20:05:23.739377Z",
     "start_time": "2018-08-01T20:05:23.630505Z"
    }
   },
   "outputs": [
    {
     "data": {
      "text/plain": [
       "BIDS Layout: .../pybids/bids/tests/data/7t_trt | Subjects: 10 | Sessions: 20 | Runs: 20"
      ]
     },
     "execution_count": 2,
     "metadata": {},
     "output_type": "execute_result"
    }
   ],
   "source": [
    "# Initialise a BIDSLayout of an example dataset\n",
    "data_path = os.path.join(bids.tests.get_test_data_path(), '7t_trt')\n",
    "layout = bids.layout.BIDSLayout(data_path)\n",
    "layout"
   ]
  },
  {
   "cell_type": "markdown",
   "metadata": {},
   "source": [
    "### Using `get()`\n",
    "a `BIDSLayout` object can be queried with the class method [`get()`](https://bids-standard.github.io/pybids/generated/bids.grabbids.BIDSLayout.html#bids.grabbids.BIDSLayout.get). The `BIDSLayout` object contains `File` objects. We can see the whole list of these by calling `get()` with no arguments"
   ]
  },
  {
   "cell_type": "code",
   "execution_count": 3,
   "metadata": {
    "ExecuteTime": {
     "end_time": "2018-08-01T20:05:23.926278Z",
     "start_time": "2018-08-01T20:05:23.741189Z"
    },
    "scrolled": true
   },
   "outputs": [
    {
     "data": {
      "text/plain": [
       "File(filename='/home/yoh/proj/bids/pybids/bids/tests/data/7t_trt/sub-01/ses-1/fmap/sub-01_ses-1_run-2_phasediff.json', subject='01', session='1', run=2, suffix='phasediff', datatype='fmap')"
      ]
     },
     "execution_count": 3,
     "metadata": {},
     "output_type": "execute_result"
    }
   ],
   "source": [
    "# The file objects returned are tuples of key-value pairs\n",
    "layout.get()[10]"
   ]
  },
  {
   "cell_type": "markdown",
   "metadata": {},
   "source": [
    "`get()` returns (by default) a key-value pair tuple view of the matched file objects. We can match on these key value pairs."
   ]
  },
  {
   "cell_type": "code",
   "execution_count": 4,
   "metadata": {
    "ExecuteTime": {
     "end_time": "2018-08-01T20:05:23.933121Z",
     "start_time": "2018-08-01T20:05:23.927623Z"
    },
    "scrolled": true
   },
   "outputs": [
    {
     "data": {
      "text/plain": [
       "[File(filename='/home/yoh/proj/bids/pybids/bids/tests/data/7t_trt/sub-01/ses-1/anat/sub-01_ses-1_T1w.nii.gz', subject='01', session='1', suffix='T1w', datatype='anat')]"
      ]
     },
     "execution_count": 4,
     "metadata": {},
     "output_type": "execute_result"
    }
   ],
   "source": [
    "# We query for any files with the type 'T1w' \n",
    "layout.get(suffix='T1w', subject='01')"
   ]
  },
  {
   "cell_type": "markdown",
   "metadata": {},
   "source": [
    "[`get()`](https://bids-standard.github.io/pybids/generated/bids.grabbids.BIDSLayout.html#bids.grabbids.BIDSLayout.get) has been returning a \"tuple\" representation of the `File` objects, but we can specify the return type using optional argument `return_type`"
   ]
  },
  {
   "cell_type": "code",
   "execution_count": 5,
   "metadata": {
    "ExecuteTime": {
     "end_time": "2018-08-01T20:05:23.945162Z",
     "start_time": "2018-08-01T20:05:23.934513Z"
    }
   },
   "outputs": [
    {
     "data": {
      "text/plain": [
       "[<bids.layout.layout.BIDSFile at 0x7fb3baa6a128>,\n",
       " <bids.layout.layout.BIDSFile at 0x7fb3baa6ae10>,\n",
       " <bids.layout.layout.BIDSFile at 0x7fb3baa68c18>,\n",
       " <bids.layout.layout.BIDSFile at 0x7fb3babd37f0>,\n",
       " <bids.layout.layout.BIDSFile at 0x7fb3babd6780>,\n",
       " <bids.layout.layout.BIDSFile at 0x7fb3babef8d0>,\n",
       " <bids.layout.layout.BIDSFile at 0x7fb3babf7a58>,\n",
       " <bids.layout.layout.BIDSFile at 0x7fb3bab0cac8>,\n",
       " <bids.layout.layout.BIDSFile at 0x7fb3bab0ab00>,\n",
       " <bids.layout.layout.BIDSFile at 0x7fb3bab1f470>]"
      ]
     },
     "execution_count": 5,
     "metadata": {},
     "output_type": "execute_result"
    }
   ],
   "source": [
    "# Ask get() to return the matching file objects\n",
    "layout.get(suffix='T1w', return_type='obj')\n",
    "# You can convert an obj to a tuple by using the .as_named_tuple() method"
   ]
  },
  {
   "cell_type": "code",
   "execution_count": 6,
   "metadata": {
    "ExecuteTime": {
     "end_time": "2018-08-01T20:05:23.954948Z",
     "start_time": "2018-08-01T20:05:23.947869Z"
    }
   },
   "outputs": [
    {
     "data": {
      "text/plain": [
       "['/home/yoh/proj/bids/pybids/bids/tests/data/7t_trt/sub-01/ses-1/anat/sub-01_ses-1_T1w.nii.gz',\n",
       " '/home/yoh/proj/bids/pybids/bids/tests/data/7t_trt/sub-02/ses-1/anat/sub-02_ses-1_T1w.nii.gz',\n",
       " '/home/yoh/proj/bids/pybids/bids/tests/data/7t_trt/sub-03/ses-1/anat/sub-03_ses-1_T1w.nii.gz',\n",
       " '/home/yoh/proj/bids/pybids/bids/tests/data/7t_trt/sub-04/ses-1/anat/sub-04_ses-1_T1w.nii.gz',\n",
       " '/home/yoh/proj/bids/pybids/bids/tests/data/7t_trt/sub-05/ses-1/anat/sub-05_ses-1_T1w.nii.gz',\n",
       " '/home/yoh/proj/bids/pybids/bids/tests/data/7t_trt/sub-06/ses-1/anat/sub-06_ses-1_T1w.nii.gz',\n",
       " '/home/yoh/proj/bids/pybids/bids/tests/data/7t_trt/sub-07/ses-1/anat/sub-07_ses-1_T1w.nii.gz',\n",
       " '/home/yoh/proj/bids/pybids/bids/tests/data/7t_trt/sub-08/ses-1/anat/sub-08_ses-1_T1w.nii.gz',\n",
       " '/home/yoh/proj/bids/pybids/bids/tests/data/7t_trt/sub-09/ses-1/anat/sub-09_ses-1_T1w.nii.gz',\n",
       " '/home/yoh/proj/bids/pybids/bids/tests/data/7t_trt/sub-10/ses-1/anat/sub-10_ses-1_T1w.nii.gz']"
      ]
     },
     "execution_count": 6,
     "metadata": {},
     "output_type": "execute_result"
    }
   ],
   "source": [
    "# Ask get() to return the filenames of the matching files\n",
    "layout.get(suffix='T1w', return_type='file')"
   ]
  },
  {
   "cell_type": "markdown",
   "metadata": {},
   "source": [
    "We can also ask get to return other key/value data from the `File` objects using the argument `target`"
   ]
  },
  {
   "cell_type": "code",
   "execution_count": 7,
   "metadata": {
    "ExecuteTime": {
     "end_time": "2018-08-01T20:05:23.964766Z",
     "start_time": "2018-08-01T20:05:23.957477Z"
    },
    "scrolled": true
   },
   "outputs": [
    {
     "data": {
      "text/plain": [
       "['01', '02', '03', '04', '05', '06', '07', '08', '09', '10']"
      ]
     },
     "execution_count": 7,
     "metadata": {},
     "output_type": "execute_result"
    }
   ],
   "source": [
    "# Ask get() to return the ids of subjects that have T1w files\n",
    "layout.get(suffix='T1w', return_type='id', target='subject')"
   ]
  },
  {
   "cell_type": "code",
   "execution_count": 8,
   "metadata": {
    "ExecuteTime": {
     "end_time": "2018-08-01T20:05:23.973072Z",
     "start_time": "2018-08-01T20:05:23.967232Z"
    }
   },
   "outputs": [
    {
     "data": {
      "text/plain": [
       "['anat', 'fmap', 'func']"
      ]
     },
     "execution_count": 8,
     "metadata": {},
     "output_type": "execute_result"
    }
   ],
   "source": [
    "# See all modality labels in this dataset\n",
    "layout.get(return_type='id', target='datatype')"
   ]
  },
  {
   "cell_type": "markdown",
   "metadata": {},
   "source": [
    "And if our `target` is a key that corresponds to a particular directory in the BIDS spec (e.g subject or session) we can ask get to return the `target` subdirectory for each matching file."
   ]
  },
  {
   "cell_type": "code",
   "execution_count": 9,
   "metadata": {
    "ExecuteTime": {
     "end_time": "2018-08-01T20:05:23.983125Z",
     "start_time": "2018-08-01T20:05:23.975085Z"
    }
   },
   "outputs": [
    {
     "data": {
      "text/plain": [
       "[File(filename='/home/yoh/proj/bids/pybids/bids/tests/data/7t_trt/sub-01/ses-1/anat/sub-01_ses-1_T1map.nii.gz', subject='01', session='1', suffix='T1map', datatype='anat'),\n",
       " File(filename='/home/yoh/proj/bids/pybids/bids/tests/data/7t_trt/sub-01/ses-1/anat/sub-01_ses-1_T1w.nii.gz', subject='01', session='1', suffix='T1w', datatype='anat')]"
      ]
     },
     "execution_count": 9,
     "metadata": {},
     "output_type": "execute_result"
    }
   ],
   "source": [
    "# We can feed get more complicated queries\n",
    "layout.get(suffix=['T1w', 'T1map'], subject='01')"
   ]
  },
  {
   "cell_type": "code",
   "execution_count": 10,
   "metadata": {
    "ExecuteTime": {
     "end_time": "2018-08-01T20:05:23.991504Z",
     "start_time": "2018-08-01T20:05:23.985349Z"
    }
   },
   "outputs": [
    {
     "data": {
      "text/plain": [
       "['bold', 'description', 'phasediff', 'physio']"
      ]
     },
     "execution_count": 10,
     "metadata": {},
     "output_type": "execute_result"
    }
   ],
   "source": [
    "# See all the type values for json files in this dataset\n",
    "layout.get(return_type='id', target='suffix', extensions='.json')"
   ]
  },
  {
   "cell_type": "markdown",
   "metadata": {},
   "source": [
    "### What can we do with `File` objects?"
   ]
  },
  {
   "cell_type": "code",
   "execution_count": 11,
   "metadata": {
    "ExecuteTime": {
     "end_time": "2018-08-01T20:05:24.002161Z",
     "start_time": "2018-08-01T20:05:23.993809Z"
    }
   },
   "outputs": [
    {
     "data": {
      "text/plain": [
       "File(filename='/home/yoh/proj/bids/pybids/bids/tests/data/7t_trt/sub-01/ses-1/fmap/sub-01_ses-1_run-1_phasediff.nii.gz', subject='01', session='1', run=1, suffix='phasediff', fmap='phasediff', datatype='fmap')"
      ]
     },
     "execution_count": 11,
     "metadata": {},
     "output_type": "execute_result"
    }
   ],
   "source": [
    "# We can convert File objects into a named tuple \n",
    "f = layout.get(return_type='obj', subject='01', session='1', run='1', suffix='phasediff', datatype='fmap')[1]\n",
    "f.as_named_tuple()"
   ]
  },
  {
   "cell_type": "code",
   "execution_count": 12,
   "metadata": {
    "ExecuteTime": {
     "end_time": "2018-08-01T20:05:24.011465Z",
     "start_time": "2018-08-01T20:05:24.004234Z"
    },
    "scrolled": true
   },
   "outputs": [
    {
     "data": {
      "text/plain": [
       "{'EchoTime1': 0.006,\n",
       " 'EchoTime2': 0.00702,\n",
       " 'IntendedFor': 'ses-1/func/sub-01_ses-1_task-rest_acq-fullbrain_run-1_bold.nii.gz'}"
      ]
     },
     "execution_count": 12,
     "metadata": {},
     "output_type": "execute_result"
    }
   ],
   "source": [
    "# get_metadata reads the associated json file\n",
    "layout.get_metadata(f.path)"
   ]
  },
  {
   "cell_type": "code",
   "execution_count": 13,
   "metadata": {
    "ExecuteTime": {
     "end_time": "2018-08-01T20:05:24.020395Z",
     "start_time": "2018-08-01T20:05:24.013878Z"
    }
   },
   "outputs": [
    {
     "data": {
      "text/plain": [
       "{'datatype': 'fmap',\n",
       " 'filename': '/home/yoh/proj/bids/pybids/bids/tests/data/7t_trt/sub-01/ses-1/fmap/sub-01_ses-1_run-1_phasediff.nii.gz',\n",
       " 'fmap': 'phasediff',\n",
       " 'run': 1,\n",
       " 'session': '1',\n",
       " 'subject': '01',\n",
       " 'suffix': 'phasediff'}"
      ]
     },
     "execution_count": 13,
     "metadata": {},
     "output_type": "execute_result"
    }
   ],
   "source": [
    "# Get file object as a dictionary\n",
    "dict(f.as_named_tuple()._asdict())"
   ]
  },
  {
   "cell_type": "code",
   "execution_count": 14,
   "metadata": {
    "ExecuteTime": {
     "end_time": "2018-08-01T20:05:24.027594Z",
     "start_time": "2018-08-01T20:05:24.022698Z"
    }
   },
   "outputs": [
    {
     "data": {
      "text/plain": [
       "{'datatype': 'fmap',\n",
       " 'fmap': 'phasediff',\n",
       " 'run': 1,\n",
       " 'session': '1',\n",
       " 'subject': '01',\n",
       " 'suffix': 'phasediff'}"
      ]
     },
     "execution_count": 14,
     "metadata": {},
     "output_type": "execute_result"
    }
   ],
   "source": [
    "# We can return file key value pairs as dictionaries\n",
    "f.entities"
   ]
  },
  {
   "cell_type": "code",
   "execution_count": 15,
   "metadata": {
    "ExecuteTime": {
     "end_time": "2018-08-01T20:05:24.035216Z",
     "start_time": "2018-08-01T20:05:24.030080Z"
    }
   },
   "outputs": [
    {
     "data": {
      "text/plain": [
       "{'datatype': 'fmap',\n",
       " 'fmap': 'phasediff',\n",
       " 'run': 1,\n",
       " 'session': '1',\n",
       " 'subject': '01',\n",
       " 'suffix': 'phasediff'}"
      ]
     },
     "execution_count": 15,
     "metadata": {},
     "output_type": "execute_result"
    }
   ],
   "source": [
    "# Layout can parse filenames to create this same dictionary of entities\n",
    "layout.parse_file_entities(f.path)"
   ]
  },
  {
   "cell_type": "code",
   "execution_count": 16,
   "metadata": {
    "ExecuteTime": {
     "end_time": "2018-08-01T20:05:24.042481Z",
     "start_time": "2018-08-01T20:05:24.037268Z"
    }
   },
   "outputs": [
    {
     "data": {
      "text/plain": [
       "{'session': '1', 'subject': '02', 'suffix': 'T2w'}"
      ]
     },
     "execution_count": 16,
     "metadata": {},
     "output_type": "execute_result"
    }
   ],
   "source": [
    "# We can even make up a filename and ask layout to parse it \n",
    "layout.parse_file_entities(os.path.join(data_path, 'sub-02/ses-1/sub-02_ses-1_T2w.nii.gz'))"
   ]
  },
  {
   "cell_type": "markdown",
   "metadata": {},
   "source": [
    "## Build New Paths\n",
    "\n",
    "You may want to create valid BIDS filenames for files that are new or hypothetical that would sit within your BIDS project. "
   ]
  },
  {
   "cell_type": "code",
   "execution_count": 17,
   "metadata": {
    "ExecuteTime": {
     "end_time": "2018-08-01T20:05:24.049418Z",
     "start_time": "2018-08-01T20:05:24.044544Z"
    }
   },
   "outputs": [],
   "source": [
    "# You need to define a pattern for filenames. This is a string object with \n",
    "# replaceable keys in curly brackets\n",
    "pattern = \"sub-{subject}[/ses-{session}]/{modality}/sub-{subject}[_ses-{session}][_acq-{acquisition}]_{type}.nii.gz\"\n",
    "# And you need to make a dictionary of entities. These are the key-value pairs that will \n",
    "# define how to replace the {key}s in the pattern\n",
    "entities = {'subject': '01', 'session': '1', 'modality': 'anat', 'type': 'T1w' }"
   ]
  },
  {
   "cell_type": "code",
   "execution_count": 18,
   "metadata": {
    "ExecuteTime": {
     "end_time": "2018-08-01T20:05:24.056894Z",
     "start_time": "2018-08-01T20:05:24.051892Z"
    }
   },
   "outputs": [
    {
     "data": {
      "text/plain": [
       "'sub-01/ses-1/anat/sub-01_ses-1_T1w.nii.gz'"
      ]
     },
     "execution_count": 18,
     "metadata": {},
     "output_type": "execute_result"
    }
   ],
   "source": [
    "# You can pass patterns directly to build_path\n",
    "layout.build_path(entities, path_patterns=[pattern])"
   ]
  },
  {
   "cell_type": "code",
   "execution_count": 19,
   "metadata": {
    "ExecuteTime": {
     "end_time": "2018-08-01T20:05:24.064220Z",
     "start_time": "2018-08-01T20:05:24.058906Z"
    },
    "scrolled": false
   },
   "outputs": [],
   "source": [
    "# Or you can define the default patterns for layout to use\n",
    "# TODO: fix for 0.7 release\n",
    "layout.path_patterns = [pattern]\n",
    "layout.build_path(entities)"
   ]
  },
  {
   "cell_type": "markdown",
   "metadata": {},
   "source": [
    "### Loading subdomains\n",
    "\n",
    "You can declare your `derivatives` subfolder when you initialise your `BIDSLayout`. This will endow it with the extra structure specified in the [derivatives config file](https://github.com/bids-standard/pybids/blob/master/bids/grabbids/config/derivatives.json)."
   ]
  },
  {
   "cell_type": "code",
   "execution_count": 20,
   "metadata": {
    "ExecuteTime": {
     "end_time": "2018-08-01T20:05:24.228683Z",
     "start_time": "2018-08-01T20:05:24.066251Z"
    }
   },
   "outputs": [
    {
     "name": "stderr",
     "output_type": "stream",
     "text": [
      "/home/yoh/proj/bids/pybids/venvs/dev3/lib/python3.6/site-packages/grabbit/core.py:448: UserWarning: Domain with name 'bids' already exists; returning existing Domain configuration.\n",
      "  warnings.warn(msg)\n"
     ]
    }
   ],
   "source": [
    "# Define paths to root and derivatives folders\n",
    "root = os.path.join(bids.tests.get_test_data_path(), 'synthetic')\n",
    "# deriv = os.path.join(root, 'derivatives')\n",
    "# import root as a 'bids' domain, and derivatives as a 'bids' and 'derivatives' domain\n",
    "layout2 = bids.layout.BIDSLayout(root, derivatives=True)"
   ]
  },
  {
   "cell_type": "code",
   "execution_count": 21,
   "metadata": {
    "ExecuteTime": {
     "end_time": "2018-08-01T20:05:24.245649Z",
     "start_time": "2018-08-01T20:05:24.230490Z"
    },
    "scrolled": true
   },
   "outputs": [
    {
     "data": {
      "text/plain": [
       "['/home/yoh/proj/bids/pybids/bids/tests/data/synthetic/derivatives/fmriprep/sub-01/ses-01/func/sub-01_ses-01_task-nback_run-01_confounds.tsv.gz',\n",
       " '/home/yoh/proj/bids/pybids/bids/tests/data/synthetic/derivatives/fmriprep/sub-01/ses-01/func/sub-01_ses-01_task-nback_run-01_desc-preproc_space-MNI152NLin2009cAsym_bold.nii',\n",
       " '/home/yoh/proj/bids/pybids/bids/tests/data/synthetic/derivatives/fmriprep/sub-01/ses-01/func/sub-01_ses-01_task-nback_run-01_desc-preproc_space-MNI152NLin2009cAsym_bold.nii.gz',\n",
       " '/home/yoh/proj/bids/pybids/bids/tests/data/synthetic/derivatives/fmriprep/sub-01/ses-01/func/sub-01_ses-01_task-nback_run-01_desc-preproc_space-MNI152NLin2009cAsym_brainmask.nii',\n",
       " '/home/yoh/proj/bids/pybids/bids/tests/data/synthetic/derivatives/fmriprep/sub-01/ses-01/func/sub-01_ses-01_task-nback_run-01_desc-preproc_space-MNI152NLin2009cAsym_brainmask.nii.gz',\n",
       " '/home/yoh/proj/bids/pybids/bids/tests/data/synthetic/derivatives/fmriprep/sub-01/ses-01/func/sub-01_ses-01_task-nback_run-01_desc-preproc_space-T1w_bold.nii',\n",
       " '/home/yoh/proj/bids/pybids/bids/tests/data/synthetic/derivatives/fmriprep/sub-01/ses-01/func/sub-01_ses-01_task-nback_run-01_desc-preproc_space-T1w_bold.nii.gz',\n",
       " '/home/yoh/proj/bids/pybids/bids/tests/data/synthetic/derivatives/fmriprep/sub-01/ses-01/func/sub-01_ses-01_task-nback_run-01_desc-preproc_space-T1w_brainmask.nii',\n",
       " '/home/yoh/proj/bids/pybids/bids/tests/data/synthetic/derivatives/fmriprep/sub-01/ses-01/func/sub-01_ses-01_task-nback_run-01_desc-preproc_space-T1w_brainmask.nii.gz',\n",
       " '/home/yoh/proj/bids/pybids/bids/tests/data/synthetic/derivatives/fmriprep/sub-01/ses-01/func/sub-01_ses-01_task-nback_run-02_confounds.tsv.gz',\n",
       " '/home/yoh/proj/bids/pybids/bids/tests/data/synthetic/derivatives/fmriprep/sub-01/ses-01/func/sub-01_ses-01_task-nback_run-02_desc-preproc_space-MNI152NLin2009cAsym_bold.nii',\n",
       " '/home/yoh/proj/bids/pybids/bids/tests/data/synthetic/derivatives/fmriprep/sub-01/ses-01/func/sub-01_ses-01_task-nback_run-02_desc-preproc_space-MNI152NLin2009cAsym_bold.nii.gz',\n",
       " '/home/yoh/proj/bids/pybids/bids/tests/data/synthetic/derivatives/fmriprep/sub-01/ses-01/func/sub-01_ses-01_task-nback_run-02_desc-preproc_space-MNI152NLin2009cAsym_brainmask.nii',\n",
       " '/home/yoh/proj/bids/pybids/bids/tests/data/synthetic/derivatives/fmriprep/sub-01/ses-01/func/sub-01_ses-01_task-nback_run-02_desc-preproc_space-MNI152NLin2009cAsym_brainmask.nii.gz',\n",
       " '/home/yoh/proj/bids/pybids/bids/tests/data/synthetic/derivatives/fmriprep/sub-01/ses-01/func/sub-01_ses-01_task-nback_run-02_desc-preproc_space-T1w_bold.nii',\n",
       " '/home/yoh/proj/bids/pybids/bids/tests/data/synthetic/derivatives/fmriprep/sub-01/ses-01/func/sub-01_ses-01_task-nback_run-02_desc-preproc_space-T1w_bold.nii.gz',\n",
       " '/home/yoh/proj/bids/pybids/bids/tests/data/synthetic/derivatives/fmriprep/sub-01/ses-01/func/sub-01_ses-01_task-nback_run-02_desc-preproc_space-T1w_brainmask.nii',\n",
       " '/home/yoh/proj/bids/pybids/bids/tests/data/synthetic/derivatives/fmriprep/sub-01/ses-01/func/sub-01_ses-01_task-nback_run-02_desc-preproc_space-T1w_brainmask.nii.gz',\n",
       " '/home/yoh/proj/bids/pybids/bids/tests/data/synthetic/derivatives/fmriprep/sub-01/ses-01/func/sub-01_ses-01_task-rest_confounds.tsv.gz',\n",
       " '/home/yoh/proj/bids/pybids/bids/tests/data/synthetic/derivatives/fmriprep/sub-01/ses-01/func/sub-01_ses-01_task-rest_desc-preproc_space-MNI152NLin2009cAsym_bold.nii',\n",
       " '/home/yoh/proj/bids/pybids/bids/tests/data/synthetic/derivatives/fmriprep/sub-01/ses-01/func/sub-01_ses-01_task-rest_desc-preproc_space-MNI152NLin2009cAsym_bold.nii.gz',\n",
       " '/home/yoh/proj/bids/pybids/bids/tests/data/synthetic/derivatives/fmriprep/sub-01/ses-01/func/sub-01_ses-01_task-rest_desc-preproc_space-MNI152NLin2009cAsym_brainmask.nii',\n",
       " '/home/yoh/proj/bids/pybids/bids/tests/data/synthetic/derivatives/fmriprep/sub-01/ses-01/func/sub-01_ses-01_task-rest_desc-preproc_space-MNI152NLin2009cAsym_brainmask.nii.gz',\n",
       " '/home/yoh/proj/bids/pybids/bids/tests/data/synthetic/derivatives/fmriprep/sub-01/ses-01/func/sub-01_ses-01_task-rest_desc-preproc_space-T1w_bold.nii',\n",
       " '/home/yoh/proj/bids/pybids/bids/tests/data/synthetic/derivatives/fmriprep/sub-01/ses-01/func/sub-01_ses-01_task-rest_desc-preproc_space-T1w_bold.nii.gz',\n",
       " '/home/yoh/proj/bids/pybids/bids/tests/data/synthetic/derivatives/fmriprep/sub-01/ses-01/func/sub-01_ses-01_task-rest_desc-preproc_space-T1w_brainmask.nii',\n",
       " '/home/yoh/proj/bids/pybids/bids/tests/data/synthetic/derivatives/fmriprep/sub-01/ses-01/func/sub-01_ses-01_task-rest_desc-preproc_space-T1w_brainmask.nii.gz',\n",
       " '/home/yoh/proj/bids/pybids/bids/tests/data/synthetic/derivatives/fmriprep/sub-01/ses-02/func/sub-01_ses-02_task-nback_run-01_confounds.tsv.gz',\n",
       " '/home/yoh/proj/bids/pybids/bids/tests/data/synthetic/derivatives/fmriprep/sub-01/ses-02/func/sub-01_ses-02_task-nback_run-01_desc-preproc_space-MNI152NLin2009cAsym_bold.nii',\n",
       " '/home/yoh/proj/bids/pybids/bids/tests/data/synthetic/derivatives/fmriprep/sub-01/ses-02/func/sub-01_ses-02_task-nback_run-01_desc-preproc_space-MNI152NLin2009cAsym_bold.nii.gz',\n",
       " '/home/yoh/proj/bids/pybids/bids/tests/data/synthetic/derivatives/fmriprep/sub-01/ses-02/func/sub-01_ses-02_task-nback_run-01_desc-preproc_space-MNI152NLin2009cAsym_brainmask.nii',\n",
       " '/home/yoh/proj/bids/pybids/bids/tests/data/synthetic/derivatives/fmriprep/sub-01/ses-02/func/sub-01_ses-02_task-nback_run-01_desc-preproc_space-MNI152NLin2009cAsym_brainmask.nii.gz',\n",
       " '/home/yoh/proj/bids/pybids/bids/tests/data/synthetic/derivatives/fmriprep/sub-01/ses-02/func/sub-01_ses-02_task-nback_run-01_desc-preproc_space-T1w_bold.nii',\n",
       " '/home/yoh/proj/bids/pybids/bids/tests/data/synthetic/derivatives/fmriprep/sub-01/ses-02/func/sub-01_ses-02_task-nback_run-01_desc-preproc_space-T1w_bold.nii.gz',\n",
       " '/home/yoh/proj/bids/pybids/bids/tests/data/synthetic/derivatives/fmriprep/sub-01/ses-02/func/sub-01_ses-02_task-nback_run-01_desc-preproc_space-T1w_brainmask.nii',\n",
       " '/home/yoh/proj/bids/pybids/bids/tests/data/synthetic/derivatives/fmriprep/sub-01/ses-02/func/sub-01_ses-02_task-nback_run-01_desc-preproc_space-T1w_brainmask.nii.gz',\n",
       " '/home/yoh/proj/bids/pybids/bids/tests/data/synthetic/derivatives/fmriprep/sub-01/ses-02/func/sub-01_ses-02_task-nback_run-02_confounds.tsv.gz',\n",
       " '/home/yoh/proj/bids/pybids/bids/tests/data/synthetic/derivatives/fmriprep/sub-01/ses-02/func/sub-01_ses-02_task-nback_run-02_desc-preproc_space-MNI152NLin2009cAsym_bold.nii',\n",
       " '/home/yoh/proj/bids/pybids/bids/tests/data/synthetic/derivatives/fmriprep/sub-01/ses-02/func/sub-01_ses-02_task-nback_run-02_desc-preproc_space-MNI152NLin2009cAsym_bold.nii.gz',\n",
       " '/home/yoh/proj/bids/pybids/bids/tests/data/synthetic/derivatives/fmriprep/sub-01/ses-02/func/sub-01_ses-02_task-nback_run-02_desc-preproc_space-MNI152NLin2009cAsym_brainmask.nii',\n",
       " '/home/yoh/proj/bids/pybids/bids/tests/data/synthetic/derivatives/fmriprep/sub-01/ses-02/func/sub-01_ses-02_task-nback_run-02_desc-preproc_space-MNI152NLin2009cAsym_brainmask.nii.gz',\n",
       " '/home/yoh/proj/bids/pybids/bids/tests/data/synthetic/derivatives/fmriprep/sub-01/ses-02/func/sub-01_ses-02_task-nback_run-02_desc-preproc_space-T1w_bold.nii',\n",
       " '/home/yoh/proj/bids/pybids/bids/tests/data/synthetic/derivatives/fmriprep/sub-01/ses-02/func/sub-01_ses-02_task-nback_run-02_desc-preproc_space-T1w_bold.nii.gz',\n",
       " '/home/yoh/proj/bids/pybids/bids/tests/data/synthetic/derivatives/fmriprep/sub-01/ses-02/func/sub-01_ses-02_task-nback_run-02_desc-preproc_space-T1w_brainmask.nii',\n",
       " '/home/yoh/proj/bids/pybids/bids/tests/data/synthetic/derivatives/fmriprep/sub-01/ses-02/func/sub-01_ses-02_task-nback_run-02_desc-preproc_space-T1w_brainmask.nii.gz',\n",
       " '/home/yoh/proj/bids/pybids/bids/tests/data/synthetic/derivatives/fmriprep/sub-01/ses-02/func/sub-01_ses-02_task-rest_confounds.tsv.gz',\n",
       " '/home/yoh/proj/bids/pybids/bids/tests/data/synthetic/derivatives/fmriprep/sub-01/ses-02/func/sub-01_ses-02_task-rest_desc-preproc_space-MNI152NLin2009cAsym_bold.nii',\n",
       " '/home/yoh/proj/bids/pybids/bids/tests/data/synthetic/derivatives/fmriprep/sub-01/ses-02/func/sub-01_ses-02_task-rest_desc-preproc_space-MNI152NLin2009cAsym_bold.nii.gz',\n",
       " '/home/yoh/proj/bids/pybids/bids/tests/data/synthetic/derivatives/fmriprep/sub-01/ses-02/func/sub-01_ses-02_task-rest_desc-preproc_space-MNI152NLin2009cAsym_brainmask.nii',\n",
       " '/home/yoh/proj/bids/pybids/bids/tests/data/synthetic/derivatives/fmriprep/sub-01/ses-02/func/sub-01_ses-02_task-rest_desc-preproc_space-MNI152NLin2009cAsym_brainmask.nii.gz',\n",
       " '/home/yoh/proj/bids/pybids/bids/tests/data/synthetic/derivatives/fmriprep/sub-01/ses-02/func/sub-01_ses-02_task-rest_desc-preproc_space-T1w_bold.nii',\n",
       " '/home/yoh/proj/bids/pybids/bids/tests/data/synthetic/derivatives/fmriprep/sub-01/ses-02/func/sub-01_ses-02_task-rest_desc-preproc_space-T1w_bold.nii.gz',\n",
       " '/home/yoh/proj/bids/pybids/bids/tests/data/synthetic/derivatives/fmriprep/sub-01/ses-02/func/sub-01_ses-02_task-rest_desc-preproc_space-T1w_brainmask.nii',\n",
       " '/home/yoh/proj/bids/pybids/bids/tests/data/synthetic/derivatives/fmriprep/sub-01/ses-02/func/sub-01_ses-02_task-rest_desc-preproc_space-T1w_brainmask.nii.gz',\n",
       " '/home/yoh/proj/bids/pybids/bids/tests/data/synthetic/derivatives/fmriprep/sub-02/ses-01/func/sub-02_ses-01_task-nback_run-01_confounds.tsv.gz',\n",
       " '/home/yoh/proj/bids/pybids/bids/tests/data/synthetic/derivatives/fmriprep/sub-02/ses-01/func/sub-02_ses-01_task-nback_run-01_desc-preproc_space-MNI152NLin2009cAsym_bold.nii',\n",
       " '/home/yoh/proj/bids/pybids/bids/tests/data/synthetic/derivatives/fmriprep/sub-02/ses-01/func/sub-02_ses-01_task-nback_run-01_desc-preproc_space-MNI152NLin2009cAsym_bold.nii.gz',\n",
       " '/home/yoh/proj/bids/pybids/bids/tests/data/synthetic/derivatives/fmriprep/sub-02/ses-01/func/sub-02_ses-01_task-nback_run-01_desc-preproc_space-MNI152NLin2009cAsym_brainmask.nii',\n",
       " '/home/yoh/proj/bids/pybids/bids/tests/data/synthetic/derivatives/fmriprep/sub-02/ses-01/func/sub-02_ses-01_task-nback_run-01_desc-preproc_space-MNI152NLin2009cAsym_brainmask.nii.gz',\n",
       " '/home/yoh/proj/bids/pybids/bids/tests/data/synthetic/derivatives/fmriprep/sub-02/ses-01/func/sub-02_ses-01_task-nback_run-01_desc-preproc_space-T1w_bold.nii',\n",
       " '/home/yoh/proj/bids/pybids/bids/tests/data/synthetic/derivatives/fmriprep/sub-02/ses-01/func/sub-02_ses-01_task-nback_run-01_desc-preproc_space-T1w_bold.nii.gz',\n",
       " '/home/yoh/proj/bids/pybids/bids/tests/data/synthetic/derivatives/fmriprep/sub-02/ses-01/func/sub-02_ses-01_task-nback_run-01_desc-preproc_space-T1w_brainmask.nii',\n",
       " '/home/yoh/proj/bids/pybids/bids/tests/data/synthetic/derivatives/fmriprep/sub-02/ses-01/func/sub-02_ses-01_task-nback_run-01_desc-preproc_space-T1w_brainmask.nii.gz',\n",
       " '/home/yoh/proj/bids/pybids/bids/tests/data/synthetic/derivatives/fmriprep/sub-02/ses-01/func/sub-02_ses-01_task-nback_run-02_confounds.tsv.gz',\n",
       " '/home/yoh/proj/bids/pybids/bids/tests/data/synthetic/derivatives/fmriprep/sub-02/ses-01/func/sub-02_ses-01_task-nback_run-02_desc-preproc_space-MNI152NLin2009cAsym_bold.nii',\n",
       " '/home/yoh/proj/bids/pybids/bids/tests/data/synthetic/derivatives/fmriprep/sub-02/ses-01/func/sub-02_ses-01_task-nback_run-02_desc-preproc_space-MNI152NLin2009cAsym_bold.nii.gz',\n",
       " '/home/yoh/proj/bids/pybids/bids/tests/data/synthetic/derivatives/fmriprep/sub-02/ses-01/func/sub-02_ses-01_task-nback_run-02_desc-preproc_space-MNI152NLin2009cAsym_brainmask.nii',\n",
       " '/home/yoh/proj/bids/pybids/bids/tests/data/synthetic/derivatives/fmriprep/sub-02/ses-01/func/sub-02_ses-01_task-nback_run-02_desc-preproc_space-MNI152NLin2009cAsym_brainmask.nii.gz',\n",
       " '/home/yoh/proj/bids/pybids/bids/tests/data/synthetic/derivatives/fmriprep/sub-02/ses-01/func/sub-02_ses-01_task-nback_run-02_desc-preproc_space-T1w_bold.nii',\n",
       " '/home/yoh/proj/bids/pybids/bids/tests/data/synthetic/derivatives/fmriprep/sub-02/ses-01/func/sub-02_ses-01_task-nback_run-02_desc-preproc_space-T1w_bold.nii.gz',\n",
       " '/home/yoh/proj/bids/pybids/bids/tests/data/synthetic/derivatives/fmriprep/sub-02/ses-01/func/sub-02_ses-01_task-nback_run-02_desc-preproc_space-T1w_brainmask.nii',\n",
       " '/home/yoh/proj/bids/pybids/bids/tests/data/synthetic/derivatives/fmriprep/sub-02/ses-01/func/sub-02_ses-01_task-nback_run-02_desc-preproc_space-T1w_brainmask.nii.gz',\n",
       " '/home/yoh/proj/bids/pybids/bids/tests/data/synthetic/derivatives/fmriprep/sub-02/ses-01/func/sub-02_ses-01_task-rest_confounds.tsv.gz',\n",
       " '/home/yoh/proj/bids/pybids/bids/tests/data/synthetic/derivatives/fmriprep/sub-02/ses-01/func/sub-02_ses-01_task-rest_desc-preproc_space-MNI152NLin2009cAsym_bold.nii',\n",
       " '/home/yoh/proj/bids/pybids/bids/tests/data/synthetic/derivatives/fmriprep/sub-02/ses-01/func/sub-02_ses-01_task-rest_desc-preproc_space-MNI152NLin2009cAsym_bold.nii.gz',\n",
       " '/home/yoh/proj/bids/pybids/bids/tests/data/synthetic/derivatives/fmriprep/sub-02/ses-01/func/sub-02_ses-01_task-rest_desc-preproc_space-MNI152NLin2009cAsym_brainmask.nii',\n",
       " '/home/yoh/proj/bids/pybids/bids/tests/data/synthetic/derivatives/fmriprep/sub-02/ses-01/func/sub-02_ses-01_task-rest_desc-preproc_space-MNI152NLin2009cAsym_brainmask.nii.gz',\n",
       " '/home/yoh/proj/bids/pybids/bids/tests/data/synthetic/derivatives/fmriprep/sub-02/ses-01/func/sub-02_ses-01_task-rest_desc-preproc_space-T1w_bold.nii',\n",
       " '/home/yoh/proj/bids/pybids/bids/tests/data/synthetic/derivatives/fmriprep/sub-02/ses-01/func/sub-02_ses-01_task-rest_desc-preproc_space-T1w_bold.nii.gz',\n",
       " '/home/yoh/proj/bids/pybids/bids/tests/data/synthetic/derivatives/fmriprep/sub-02/ses-01/func/sub-02_ses-01_task-rest_desc-preproc_space-T1w_brainmask.nii',\n",
       " '/home/yoh/proj/bids/pybids/bids/tests/data/synthetic/derivatives/fmriprep/sub-02/ses-01/func/sub-02_ses-01_task-rest_desc-preproc_space-T1w_brainmask.nii.gz',\n",
       " '/home/yoh/proj/bids/pybids/bids/tests/data/synthetic/derivatives/fmriprep/sub-02/ses-02/func/sub-02_ses-02_task-nback_run-01_confounds.tsv.gz',\n",
       " '/home/yoh/proj/bids/pybids/bids/tests/data/synthetic/derivatives/fmriprep/sub-02/ses-02/func/sub-02_ses-02_task-nback_run-01_desc-preproc_space-MNI152NLin2009cAsym_bold.nii',\n",
       " '/home/yoh/proj/bids/pybids/bids/tests/data/synthetic/derivatives/fmriprep/sub-02/ses-02/func/sub-02_ses-02_task-nback_run-01_desc-preproc_space-MNI152NLin2009cAsym_bold.nii.gz',\n",
       " '/home/yoh/proj/bids/pybids/bids/tests/data/synthetic/derivatives/fmriprep/sub-02/ses-02/func/sub-02_ses-02_task-nback_run-01_desc-preproc_space-MNI152NLin2009cAsym_brainmask.nii',\n",
       " '/home/yoh/proj/bids/pybids/bids/tests/data/synthetic/derivatives/fmriprep/sub-02/ses-02/func/sub-02_ses-02_task-nback_run-01_desc-preproc_space-MNI152NLin2009cAsym_brainmask.nii.gz',\n",
       " '/home/yoh/proj/bids/pybids/bids/tests/data/synthetic/derivatives/fmriprep/sub-02/ses-02/func/sub-02_ses-02_task-nback_run-01_desc-preproc_space-T1w_bold.nii',\n",
       " '/home/yoh/proj/bids/pybids/bids/tests/data/synthetic/derivatives/fmriprep/sub-02/ses-02/func/sub-02_ses-02_task-nback_run-01_desc-preproc_space-T1w_bold.nii.gz',\n",
       " '/home/yoh/proj/bids/pybids/bids/tests/data/synthetic/derivatives/fmriprep/sub-02/ses-02/func/sub-02_ses-02_task-nback_run-01_desc-preproc_space-T1w_brainmask.nii',\n",
       " '/home/yoh/proj/bids/pybids/bids/tests/data/synthetic/derivatives/fmriprep/sub-02/ses-02/func/sub-02_ses-02_task-nback_run-01_desc-preproc_space-T1w_brainmask.nii.gz',\n",
       " '/home/yoh/proj/bids/pybids/bids/tests/data/synthetic/derivatives/fmriprep/sub-02/ses-02/func/sub-02_ses-02_task-nback_run-02_confounds.tsv.gz',\n",
       " '/home/yoh/proj/bids/pybids/bids/tests/data/synthetic/derivatives/fmriprep/sub-02/ses-02/func/sub-02_ses-02_task-nback_run-02_desc-preproc_space-MNI152NLin2009cAsym_bold.nii',\n",
       " '/home/yoh/proj/bids/pybids/bids/tests/data/synthetic/derivatives/fmriprep/sub-02/ses-02/func/sub-02_ses-02_task-nback_run-02_desc-preproc_space-MNI152NLin2009cAsym_bold.nii.gz',\n",
       " '/home/yoh/proj/bids/pybids/bids/tests/data/synthetic/derivatives/fmriprep/sub-02/ses-02/func/sub-02_ses-02_task-nback_run-02_desc-preproc_space-MNI152NLin2009cAsym_brainmask.nii',\n",
       " '/home/yoh/proj/bids/pybids/bids/tests/data/synthetic/derivatives/fmriprep/sub-02/ses-02/func/sub-02_ses-02_task-nback_run-02_desc-preproc_space-MNI152NLin2009cAsym_brainmask.nii.gz',\n",
       " '/home/yoh/proj/bids/pybids/bids/tests/data/synthetic/derivatives/fmriprep/sub-02/ses-02/func/sub-02_ses-02_task-nback_run-02_desc-preproc_space-T1w_bold.nii',\n",
       " '/home/yoh/proj/bids/pybids/bids/tests/data/synthetic/derivatives/fmriprep/sub-02/ses-02/func/sub-02_ses-02_task-nback_run-02_desc-preproc_space-T1w_bold.nii.gz',\n",
       " '/home/yoh/proj/bids/pybids/bids/tests/data/synthetic/derivatives/fmriprep/sub-02/ses-02/func/sub-02_ses-02_task-nback_run-02_desc-preproc_space-T1w_brainmask.nii',\n",
       " '/home/yoh/proj/bids/pybids/bids/tests/data/synthetic/derivatives/fmriprep/sub-02/ses-02/func/sub-02_ses-02_task-nback_run-02_desc-preproc_space-T1w_brainmask.nii.gz',\n",
       " '/home/yoh/proj/bids/pybids/bids/tests/data/synthetic/derivatives/fmriprep/sub-02/ses-02/func/sub-02_ses-02_task-rest_confounds.tsv.gz',\n",
       " '/home/yoh/proj/bids/pybids/bids/tests/data/synthetic/derivatives/fmriprep/sub-02/ses-02/func/sub-02_ses-02_task-rest_desc-preproc_space-MNI152NLin2009cAsym_bold.nii',\n",
       " '/home/yoh/proj/bids/pybids/bids/tests/data/synthetic/derivatives/fmriprep/sub-02/ses-02/func/sub-02_ses-02_task-rest_desc-preproc_space-MNI152NLin2009cAsym_bold.nii.gz',\n",
       " '/home/yoh/proj/bids/pybids/bids/tests/data/synthetic/derivatives/fmriprep/sub-02/ses-02/func/sub-02_ses-02_task-rest_desc-preproc_space-MNI152NLin2009cAsym_brainmask.nii',\n",
       " '/home/yoh/proj/bids/pybids/bids/tests/data/synthetic/derivatives/fmriprep/sub-02/ses-02/func/sub-02_ses-02_task-rest_desc-preproc_space-MNI152NLin2009cAsym_brainmask.nii.gz',\n",
       " '/home/yoh/proj/bids/pybids/bids/tests/data/synthetic/derivatives/fmriprep/sub-02/ses-02/func/sub-02_ses-02_task-rest_desc-preproc_space-T1w_bold.nii',\n",
       " '/home/yoh/proj/bids/pybids/bids/tests/data/synthetic/derivatives/fmriprep/sub-02/ses-02/func/sub-02_ses-02_task-rest_desc-preproc_space-T1w_bold.nii.gz',\n",
       " '/home/yoh/proj/bids/pybids/bids/tests/data/synthetic/derivatives/fmriprep/sub-02/ses-02/func/sub-02_ses-02_task-rest_desc-preproc_space-T1w_brainmask.nii',\n",
       " '/home/yoh/proj/bids/pybids/bids/tests/data/synthetic/derivatives/fmriprep/sub-02/ses-02/func/sub-02_ses-02_task-rest_desc-preproc_space-T1w_brainmask.nii.gz',\n",
       " '/home/yoh/proj/bids/pybids/bids/tests/data/synthetic/derivatives/fmriprep/sub-03/ses-01/func/sub-03_ses-01_task-nback_run-01_confounds.tsv.gz',\n",
       " '/home/yoh/proj/bids/pybids/bids/tests/data/synthetic/derivatives/fmriprep/sub-03/ses-01/func/sub-03_ses-01_task-nback_run-01_desc-preproc_space-MNI152NLin2009cAsym_bold.nii',\n",
       " '/home/yoh/proj/bids/pybids/bids/tests/data/synthetic/derivatives/fmriprep/sub-03/ses-01/func/sub-03_ses-01_task-nback_run-01_desc-preproc_space-MNI152NLin2009cAsym_bold.nii.gz',\n",
       " '/home/yoh/proj/bids/pybids/bids/tests/data/synthetic/derivatives/fmriprep/sub-03/ses-01/func/sub-03_ses-01_task-nback_run-01_desc-preproc_space-MNI152NLin2009cAsym_brainmask.nii',\n",
       " '/home/yoh/proj/bids/pybids/bids/tests/data/synthetic/derivatives/fmriprep/sub-03/ses-01/func/sub-03_ses-01_task-nback_run-01_desc-preproc_space-MNI152NLin2009cAsym_brainmask.nii.gz',\n",
       " '/home/yoh/proj/bids/pybids/bids/tests/data/synthetic/derivatives/fmriprep/sub-03/ses-01/func/sub-03_ses-01_task-nback_run-01_desc-preproc_space-T1w_bold.nii',\n",
       " '/home/yoh/proj/bids/pybids/bids/tests/data/synthetic/derivatives/fmriprep/sub-03/ses-01/func/sub-03_ses-01_task-nback_run-01_desc-preproc_space-T1w_bold.nii.gz',\n",
       " '/home/yoh/proj/bids/pybids/bids/tests/data/synthetic/derivatives/fmriprep/sub-03/ses-01/func/sub-03_ses-01_task-nback_run-01_desc-preproc_space-T1w_brainmask.nii',\n",
       " '/home/yoh/proj/bids/pybids/bids/tests/data/synthetic/derivatives/fmriprep/sub-03/ses-01/func/sub-03_ses-01_task-nback_run-01_desc-preproc_space-T1w_brainmask.nii.gz',\n",
       " '/home/yoh/proj/bids/pybids/bids/tests/data/synthetic/derivatives/fmriprep/sub-03/ses-01/func/sub-03_ses-01_task-nback_run-02_confounds.tsv.gz',\n",
       " '/home/yoh/proj/bids/pybids/bids/tests/data/synthetic/derivatives/fmriprep/sub-03/ses-01/func/sub-03_ses-01_task-nback_run-02_desc-preproc_space-MNI152NLin2009cAsym_bold.nii',\n",
       " '/home/yoh/proj/bids/pybids/bids/tests/data/synthetic/derivatives/fmriprep/sub-03/ses-01/func/sub-03_ses-01_task-nback_run-02_desc-preproc_space-MNI152NLin2009cAsym_bold.nii.gz',\n",
       " '/home/yoh/proj/bids/pybids/bids/tests/data/synthetic/derivatives/fmriprep/sub-03/ses-01/func/sub-03_ses-01_task-nback_run-02_desc-preproc_space-MNI152NLin2009cAsym_brainmask.nii',\n",
       " '/home/yoh/proj/bids/pybids/bids/tests/data/synthetic/derivatives/fmriprep/sub-03/ses-01/func/sub-03_ses-01_task-nback_run-02_desc-preproc_space-MNI152NLin2009cAsym_brainmask.nii.gz',\n",
       " '/home/yoh/proj/bids/pybids/bids/tests/data/synthetic/derivatives/fmriprep/sub-03/ses-01/func/sub-03_ses-01_task-nback_run-02_desc-preproc_space-T1w_bold.nii',\n",
       " '/home/yoh/proj/bids/pybids/bids/tests/data/synthetic/derivatives/fmriprep/sub-03/ses-01/func/sub-03_ses-01_task-nback_run-02_desc-preproc_space-T1w_bold.nii.gz',\n",
       " '/home/yoh/proj/bids/pybids/bids/tests/data/synthetic/derivatives/fmriprep/sub-03/ses-01/func/sub-03_ses-01_task-nback_run-02_desc-preproc_space-T1w_brainmask.nii',\n",
       " '/home/yoh/proj/bids/pybids/bids/tests/data/synthetic/derivatives/fmriprep/sub-03/ses-01/func/sub-03_ses-01_task-nback_run-02_desc-preproc_space-T1w_brainmask.nii.gz',\n",
       " '/home/yoh/proj/bids/pybids/bids/tests/data/synthetic/derivatives/fmriprep/sub-03/ses-01/func/sub-03_ses-01_task-rest_confounds.tsv.gz',\n",
       " '/home/yoh/proj/bids/pybids/bids/tests/data/synthetic/derivatives/fmriprep/sub-03/ses-01/func/sub-03_ses-01_task-rest_desc-preproc_space-MNI152NLin2009cAsym_bold.nii',\n",
       " '/home/yoh/proj/bids/pybids/bids/tests/data/synthetic/derivatives/fmriprep/sub-03/ses-01/func/sub-03_ses-01_task-rest_desc-preproc_space-MNI152NLin2009cAsym_bold.nii.gz',\n",
       " '/home/yoh/proj/bids/pybids/bids/tests/data/synthetic/derivatives/fmriprep/sub-03/ses-01/func/sub-03_ses-01_task-rest_desc-preproc_space-MNI152NLin2009cAsym_brainmask.nii',\n",
       " '/home/yoh/proj/bids/pybids/bids/tests/data/synthetic/derivatives/fmriprep/sub-03/ses-01/func/sub-03_ses-01_task-rest_desc-preproc_space-MNI152NLin2009cAsym_brainmask.nii.gz',\n",
       " '/home/yoh/proj/bids/pybids/bids/tests/data/synthetic/derivatives/fmriprep/sub-03/ses-01/func/sub-03_ses-01_task-rest_desc-preproc_space-T1w_bold.nii',\n",
       " '/home/yoh/proj/bids/pybids/bids/tests/data/synthetic/derivatives/fmriprep/sub-03/ses-01/func/sub-03_ses-01_task-rest_desc-preproc_space-T1w_bold.nii.gz',\n",
       " '/home/yoh/proj/bids/pybids/bids/tests/data/synthetic/derivatives/fmriprep/sub-03/ses-01/func/sub-03_ses-01_task-rest_desc-preproc_space-T1w_brainmask.nii',\n",
       " '/home/yoh/proj/bids/pybids/bids/tests/data/synthetic/derivatives/fmriprep/sub-03/ses-01/func/sub-03_ses-01_task-rest_desc-preproc_space-T1w_brainmask.nii.gz',\n",
       " '/home/yoh/proj/bids/pybids/bids/tests/data/synthetic/derivatives/fmriprep/sub-03/ses-02/func/sub-03_ses-02_task-nback_run-01_confounds.tsv.gz',\n",
       " '/home/yoh/proj/bids/pybids/bids/tests/data/synthetic/derivatives/fmriprep/sub-03/ses-02/func/sub-03_ses-02_task-nback_run-01_desc-preproc_space-MNI152NLin2009cAsym_bold.nii',\n",
       " '/home/yoh/proj/bids/pybids/bids/tests/data/synthetic/derivatives/fmriprep/sub-03/ses-02/func/sub-03_ses-02_task-nback_run-01_desc-preproc_space-MNI152NLin2009cAsym_bold.nii.gz',\n",
       " '/home/yoh/proj/bids/pybids/bids/tests/data/synthetic/derivatives/fmriprep/sub-03/ses-02/func/sub-03_ses-02_task-nback_run-01_desc-preproc_space-MNI152NLin2009cAsym_brainmask.nii',\n",
       " '/home/yoh/proj/bids/pybids/bids/tests/data/synthetic/derivatives/fmriprep/sub-03/ses-02/func/sub-03_ses-02_task-nback_run-01_desc-preproc_space-MNI152NLin2009cAsym_brainmask.nii.gz',\n",
       " '/home/yoh/proj/bids/pybids/bids/tests/data/synthetic/derivatives/fmriprep/sub-03/ses-02/func/sub-03_ses-02_task-nback_run-01_desc-preproc_space-T1w_bold.nii',\n",
       " '/home/yoh/proj/bids/pybids/bids/tests/data/synthetic/derivatives/fmriprep/sub-03/ses-02/func/sub-03_ses-02_task-nback_run-01_desc-preproc_space-T1w_bold.nii.gz',\n",
       " '/home/yoh/proj/bids/pybids/bids/tests/data/synthetic/derivatives/fmriprep/sub-03/ses-02/func/sub-03_ses-02_task-nback_run-01_desc-preproc_space-T1w_brainmask.nii',\n",
       " '/home/yoh/proj/bids/pybids/bids/tests/data/synthetic/derivatives/fmriprep/sub-03/ses-02/func/sub-03_ses-02_task-nback_run-01_desc-preproc_space-T1w_brainmask.nii.gz',\n",
       " '/home/yoh/proj/bids/pybids/bids/tests/data/synthetic/derivatives/fmriprep/sub-03/ses-02/func/sub-03_ses-02_task-nback_run-02_confounds.tsv.gz',\n",
       " '/home/yoh/proj/bids/pybids/bids/tests/data/synthetic/derivatives/fmriprep/sub-03/ses-02/func/sub-03_ses-02_task-nback_run-02_desc-preproc_space-MNI152NLin2009cAsym_bold.nii',\n",
       " '/home/yoh/proj/bids/pybids/bids/tests/data/synthetic/derivatives/fmriprep/sub-03/ses-02/func/sub-03_ses-02_task-nback_run-02_desc-preproc_space-MNI152NLin2009cAsym_bold.nii.gz',\n",
       " '/home/yoh/proj/bids/pybids/bids/tests/data/synthetic/derivatives/fmriprep/sub-03/ses-02/func/sub-03_ses-02_task-nback_run-02_desc-preproc_space-MNI152NLin2009cAsym_brainmask.nii',\n",
       " '/home/yoh/proj/bids/pybids/bids/tests/data/synthetic/derivatives/fmriprep/sub-03/ses-02/func/sub-03_ses-02_task-nback_run-02_desc-preproc_space-MNI152NLin2009cAsym_brainmask.nii.gz',\n",
       " '/home/yoh/proj/bids/pybids/bids/tests/data/synthetic/derivatives/fmriprep/sub-03/ses-02/func/sub-03_ses-02_task-nback_run-02_desc-preproc_space-T1w_bold.nii',\n",
       " '/home/yoh/proj/bids/pybids/bids/tests/data/synthetic/derivatives/fmriprep/sub-03/ses-02/func/sub-03_ses-02_task-nback_run-02_desc-preproc_space-T1w_bold.nii.gz',\n",
       " '/home/yoh/proj/bids/pybids/bids/tests/data/synthetic/derivatives/fmriprep/sub-03/ses-02/func/sub-03_ses-02_task-nback_run-02_desc-preproc_space-T1w_brainmask.nii',\n",
       " '/home/yoh/proj/bids/pybids/bids/tests/data/synthetic/derivatives/fmriprep/sub-03/ses-02/func/sub-03_ses-02_task-nback_run-02_desc-preproc_space-T1w_brainmask.nii.gz',\n",
       " '/home/yoh/proj/bids/pybids/bids/tests/data/synthetic/derivatives/fmriprep/sub-03/ses-02/func/sub-03_ses-02_task-rest_confounds.tsv.gz',\n",
       " '/home/yoh/proj/bids/pybids/bids/tests/data/synthetic/derivatives/fmriprep/sub-03/ses-02/func/sub-03_ses-02_task-rest_desc-preproc_space-MNI152NLin2009cAsym_bold.nii',\n",
       " '/home/yoh/proj/bids/pybids/bids/tests/data/synthetic/derivatives/fmriprep/sub-03/ses-02/func/sub-03_ses-02_task-rest_desc-preproc_space-MNI152NLin2009cAsym_bold.nii.gz',\n",
       " '/home/yoh/proj/bids/pybids/bids/tests/data/synthetic/derivatives/fmriprep/sub-03/ses-02/func/sub-03_ses-02_task-rest_desc-preproc_space-MNI152NLin2009cAsym_brainmask.nii',\n",
       " '/home/yoh/proj/bids/pybids/bids/tests/data/synthetic/derivatives/fmriprep/sub-03/ses-02/func/sub-03_ses-02_task-rest_desc-preproc_space-MNI152NLin2009cAsym_brainmask.nii.gz',\n",
       " '/home/yoh/proj/bids/pybids/bids/tests/data/synthetic/derivatives/fmriprep/sub-03/ses-02/func/sub-03_ses-02_task-rest_desc-preproc_space-T1w_bold.nii',\n",
       " '/home/yoh/proj/bids/pybids/bids/tests/data/synthetic/derivatives/fmriprep/sub-03/ses-02/func/sub-03_ses-02_task-rest_desc-preproc_space-T1w_bold.nii.gz',\n",
       " '/home/yoh/proj/bids/pybids/bids/tests/data/synthetic/derivatives/fmriprep/sub-03/ses-02/func/sub-03_ses-02_task-rest_desc-preproc_space-T1w_brainmask.nii',\n",
       " '/home/yoh/proj/bids/pybids/bids/tests/data/synthetic/derivatives/fmriprep/sub-03/ses-02/func/sub-03_ses-02_task-rest_desc-preproc_space-T1w_brainmask.nii.gz',\n",
       " '/home/yoh/proj/bids/pybids/bids/tests/data/synthetic/derivatives/fmriprep/sub-04/ses-01/func/sub-04_ses-01_task-nback_run-01_confounds.tsv.gz',\n",
       " '/home/yoh/proj/bids/pybids/bids/tests/data/synthetic/derivatives/fmriprep/sub-04/ses-01/func/sub-04_ses-01_task-nback_run-01_desc-preproc_space-MNI152NLin2009cAsym_bold.nii',\n",
       " '/home/yoh/proj/bids/pybids/bids/tests/data/synthetic/derivatives/fmriprep/sub-04/ses-01/func/sub-04_ses-01_task-nback_run-01_desc-preproc_space-MNI152NLin2009cAsym_bold.nii.gz',\n",
       " '/home/yoh/proj/bids/pybids/bids/tests/data/synthetic/derivatives/fmriprep/sub-04/ses-01/func/sub-04_ses-01_task-nback_run-01_desc-preproc_space-MNI152NLin2009cAsym_brainmask.nii',\n",
       " '/home/yoh/proj/bids/pybids/bids/tests/data/synthetic/derivatives/fmriprep/sub-04/ses-01/func/sub-04_ses-01_task-nback_run-01_desc-preproc_space-MNI152NLin2009cAsym_brainmask.nii.gz',\n",
       " '/home/yoh/proj/bids/pybids/bids/tests/data/synthetic/derivatives/fmriprep/sub-04/ses-01/func/sub-04_ses-01_task-nback_run-01_desc-preproc_space-T1w_bold.nii',\n",
       " '/home/yoh/proj/bids/pybids/bids/tests/data/synthetic/derivatives/fmriprep/sub-04/ses-01/func/sub-04_ses-01_task-nback_run-01_desc-preproc_space-T1w_bold.nii.gz',\n",
       " '/home/yoh/proj/bids/pybids/bids/tests/data/synthetic/derivatives/fmriprep/sub-04/ses-01/func/sub-04_ses-01_task-nback_run-01_desc-preproc_space-T1w_brainmask.nii',\n",
       " '/home/yoh/proj/bids/pybids/bids/tests/data/synthetic/derivatives/fmriprep/sub-04/ses-01/func/sub-04_ses-01_task-nback_run-01_desc-preproc_space-T1w_brainmask.nii.gz',\n",
       " '/home/yoh/proj/bids/pybids/bids/tests/data/synthetic/derivatives/fmriprep/sub-04/ses-01/func/sub-04_ses-01_task-nback_run-02_confounds.tsv.gz',\n",
       " '/home/yoh/proj/bids/pybids/bids/tests/data/synthetic/derivatives/fmriprep/sub-04/ses-01/func/sub-04_ses-01_task-nback_run-02_desc-preproc_space-MNI152NLin2009cAsym_bold.nii',\n",
       " '/home/yoh/proj/bids/pybids/bids/tests/data/synthetic/derivatives/fmriprep/sub-04/ses-01/func/sub-04_ses-01_task-nback_run-02_desc-preproc_space-MNI152NLin2009cAsym_bold.nii.gz',\n",
       " '/home/yoh/proj/bids/pybids/bids/tests/data/synthetic/derivatives/fmriprep/sub-04/ses-01/func/sub-04_ses-01_task-nback_run-02_desc-preproc_space-MNI152NLin2009cAsym_brainmask.nii',\n",
       " '/home/yoh/proj/bids/pybids/bids/tests/data/synthetic/derivatives/fmriprep/sub-04/ses-01/func/sub-04_ses-01_task-nback_run-02_desc-preproc_space-MNI152NLin2009cAsym_brainmask.nii.gz',\n",
       " '/home/yoh/proj/bids/pybids/bids/tests/data/synthetic/derivatives/fmriprep/sub-04/ses-01/func/sub-04_ses-01_task-nback_run-02_desc-preproc_space-T1w_bold.nii',\n",
       " '/home/yoh/proj/bids/pybids/bids/tests/data/synthetic/derivatives/fmriprep/sub-04/ses-01/func/sub-04_ses-01_task-nback_run-02_desc-preproc_space-T1w_bold.nii.gz',\n",
       " '/home/yoh/proj/bids/pybids/bids/tests/data/synthetic/derivatives/fmriprep/sub-04/ses-01/func/sub-04_ses-01_task-nback_run-02_desc-preproc_space-T1w_brainmask.nii',\n",
       " '/home/yoh/proj/bids/pybids/bids/tests/data/synthetic/derivatives/fmriprep/sub-04/ses-01/func/sub-04_ses-01_task-nback_run-02_desc-preproc_space-T1w_brainmask.nii.gz',\n",
       " '/home/yoh/proj/bids/pybids/bids/tests/data/synthetic/derivatives/fmriprep/sub-04/ses-01/func/sub-04_ses-01_task-rest_confounds.tsv.gz',\n",
       " '/home/yoh/proj/bids/pybids/bids/tests/data/synthetic/derivatives/fmriprep/sub-04/ses-01/func/sub-04_ses-01_task-rest_desc-preproc_space-MNI152NLin2009cAsym_bold.nii',\n",
       " '/home/yoh/proj/bids/pybids/bids/tests/data/synthetic/derivatives/fmriprep/sub-04/ses-01/func/sub-04_ses-01_task-rest_desc-preproc_space-MNI152NLin2009cAsym_bold.nii.gz',\n",
       " '/home/yoh/proj/bids/pybids/bids/tests/data/synthetic/derivatives/fmriprep/sub-04/ses-01/func/sub-04_ses-01_task-rest_desc-preproc_space-MNI152NLin2009cAsym_brainmask.nii',\n",
       " '/home/yoh/proj/bids/pybids/bids/tests/data/synthetic/derivatives/fmriprep/sub-04/ses-01/func/sub-04_ses-01_task-rest_desc-preproc_space-MNI152NLin2009cAsym_brainmask.nii.gz',\n",
       " '/home/yoh/proj/bids/pybids/bids/tests/data/synthetic/derivatives/fmriprep/sub-04/ses-01/func/sub-04_ses-01_task-rest_desc-preproc_space-T1w_bold.nii',\n",
       " '/home/yoh/proj/bids/pybids/bids/tests/data/synthetic/derivatives/fmriprep/sub-04/ses-01/func/sub-04_ses-01_task-rest_desc-preproc_space-T1w_bold.nii.gz',\n",
       " '/home/yoh/proj/bids/pybids/bids/tests/data/synthetic/derivatives/fmriprep/sub-04/ses-01/func/sub-04_ses-01_task-rest_desc-preproc_space-T1w_brainmask.nii',\n",
       " '/home/yoh/proj/bids/pybids/bids/tests/data/synthetic/derivatives/fmriprep/sub-04/ses-01/func/sub-04_ses-01_task-rest_desc-preproc_space-T1w_brainmask.nii.gz',\n",
       " '/home/yoh/proj/bids/pybids/bids/tests/data/synthetic/derivatives/fmriprep/sub-04/ses-02/func/sub-04_ses-02_task-nback_run-01_confounds.tsv.gz',\n",
       " '/home/yoh/proj/bids/pybids/bids/tests/data/synthetic/derivatives/fmriprep/sub-04/ses-02/func/sub-04_ses-02_task-nback_run-01_desc-preproc_space-MNI152NLin2009cAsym_bold.nii',\n",
       " '/home/yoh/proj/bids/pybids/bids/tests/data/synthetic/derivatives/fmriprep/sub-04/ses-02/func/sub-04_ses-02_task-nback_run-01_desc-preproc_space-MNI152NLin2009cAsym_bold.nii.gz',\n",
       " '/home/yoh/proj/bids/pybids/bids/tests/data/synthetic/derivatives/fmriprep/sub-04/ses-02/func/sub-04_ses-02_task-nback_run-01_desc-preproc_space-MNI152NLin2009cAsym_brainmask.nii',\n",
       " '/home/yoh/proj/bids/pybids/bids/tests/data/synthetic/derivatives/fmriprep/sub-04/ses-02/func/sub-04_ses-02_task-nback_run-01_desc-preproc_space-MNI152NLin2009cAsym_brainmask.nii.gz',\n",
       " '/home/yoh/proj/bids/pybids/bids/tests/data/synthetic/derivatives/fmriprep/sub-04/ses-02/func/sub-04_ses-02_task-nback_run-01_desc-preproc_space-T1w_bold.nii',\n",
       " '/home/yoh/proj/bids/pybids/bids/tests/data/synthetic/derivatives/fmriprep/sub-04/ses-02/func/sub-04_ses-02_task-nback_run-01_desc-preproc_space-T1w_bold.nii.gz',\n",
       " '/home/yoh/proj/bids/pybids/bids/tests/data/synthetic/derivatives/fmriprep/sub-04/ses-02/func/sub-04_ses-02_task-nback_run-01_desc-preproc_space-T1w_brainmask.nii',\n",
       " '/home/yoh/proj/bids/pybids/bids/tests/data/synthetic/derivatives/fmriprep/sub-04/ses-02/func/sub-04_ses-02_task-nback_run-01_desc-preproc_space-T1w_brainmask.nii.gz',\n",
       " '/home/yoh/proj/bids/pybids/bids/tests/data/synthetic/derivatives/fmriprep/sub-04/ses-02/func/sub-04_ses-02_task-nback_run-02_confounds.tsv.gz',\n",
       " '/home/yoh/proj/bids/pybids/bids/tests/data/synthetic/derivatives/fmriprep/sub-04/ses-02/func/sub-04_ses-02_task-nback_run-02_desc-preproc_space-MNI152NLin2009cAsym_bold.nii',\n",
       " '/home/yoh/proj/bids/pybids/bids/tests/data/synthetic/derivatives/fmriprep/sub-04/ses-02/func/sub-04_ses-02_task-nback_run-02_desc-preproc_space-MNI152NLin2009cAsym_bold.nii.gz',\n",
       " '/home/yoh/proj/bids/pybids/bids/tests/data/synthetic/derivatives/fmriprep/sub-04/ses-02/func/sub-04_ses-02_task-nback_run-02_desc-preproc_space-MNI152NLin2009cAsym_brainmask.nii',\n",
       " '/home/yoh/proj/bids/pybids/bids/tests/data/synthetic/derivatives/fmriprep/sub-04/ses-02/func/sub-04_ses-02_task-nback_run-02_desc-preproc_space-MNI152NLin2009cAsym_brainmask.nii.gz',\n",
       " '/home/yoh/proj/bids/pybids/bids/tests/data/synthetic/derivatives/fmriprep/sub-04/ses-02/func/sub-04_ses-02_task-nback_run-02_desc-preproc_space-T1w_bold.nii',\n",
       " '/home/yoh/proj/bids/pybids/bids/tests/data/synthetic/derivatives/fmriprep/sub-04/ses-02/func/sub-04_ses-02_task-nback_run-02_desc-preproc_space-T1w_bold.nii.gz',\n",
       " '/home/yoh/proj/bids/pybids/bids/tests/data/synthetic/derivatives/fmriprep/sub-04/ses-02/func/sub-04_ses-02_task-nback_run-02_desc-preproc_space-T1w_brainmask.nii',\n",
       " '/home/yoh/proj/bids/pybids/bids/tests/data/synthetic/derivatives/fmriprep/sub-04/ses-02/func/sub-04_ses-02_task-nback_run-02_desc-preproc_space-T1w_brainmask.nii.gz',\n",
       " '/home/yoh/proj/bids/pybids/bids/tests/data/synthetic/derivatives/fmriprep/sub-04/ses-02/func/sub-04_ses-02_task-rest_confounds.tsv.gz',\n",
       " '/home/yoh/proj/bids/pybids/bids/tests/data/synthetic/derivatives/fmriprep/sub-04/ses-02/func/sub-04_ses-02_task-rest_desc-preproc_space-MNI152NLin2009cAsym_bold.nii',\n",
       " '/home/yoh/proj/bids/pybids/bids/tests/data/synthetic/derivatives/fmriprep/sub-04/ses-02/func/sub-04_ses-02_task-rest_desc-preproc_space-MNI152NLin2009cAsym_bold.nii.gz',\n",
       " '/home/yoh/proj/bids/pybids/bids/tests/data/synthetic/derivatives/fmriprep/sub-04/ses-02/func/sub-04_ses-02_task-rest_desc-preproc_space-MNI152NLin2009cAsym_brainmask.nii',\n",
       " '/home/yoh/proj/bids/pybids/bids/tests/data/synthetic/derivatives/fmriprep/sub-04/ses-02/func/sub-04_ses-02_task-rest_desc-preproc_space-MNI152NLin2009cAsym_brainmask.nii.gz',\n",
       " '/home/yoh/proj/bids/pybids/bids/tests/data/synthetic/derivatives/fmriprep/sub-04/ses-02/func/sub-04_ses-02_task-rest_desc-preproc_space-T1w_bold.nii',\n",
       " '/home/yoh/proj/bids/pybids/bids/tests/data/synthetic/derivatives/fmriprep/sub-04/ses-02/func/sub-04_ses-02_task-rest_desc-preproc_space-T1w_bold.nii.gz',\n",
       " '/home/yoh/proj/bids/pybids/bids/tests/data/synthetic/derivatives/fmriprep/sub-04/ses-02/func/sub-04_ses-02_task-rest_desc-preproc_space-T1w_brainmask.nii',\n",
       " '/home/yoh/proj/bids/pybids/bids/tests/data/synthetic/derivatives/fmriprep/sub-04/ses-02/func/sub-04_ses-02_task-rest_desc-preproc_space-T1w_brainmask.nii.gz',\n",
       " '/home/yoh/proj/bids/pybids/bids/tests/data/synthetic/derivatives/fmriprep/sub-05/ses-01/func/sub-05_ses-01_task-nback_run-01_confounds.tsv.gz',\n",
       " '/home/yoh/proj/bids/pybids/bids/tests/data/synthetic/derivatives/fmriprep/sub-05/ses-01/func/sub-05_ses-01_task-nback_run-01_desc-preproc_space-MNI152NLin2009cAsym_bold.nii',\n",
       " '/home/yoh/proj/bids/pybids/bids/tests/data/synthetic/derivatives/fmriprep/sub-05/ses-01/func/sub-05_ses-01_task-nback_run-01_desc-preproc_space-MNI152NLin2009cAsym_bold.nii.gz',\n",
       " '/home/yoh/proj/bids/pybids/bids/tests/data/synthetic/derivatives/fmriprep/sub-05/ses-01/func/sub-05_ses-01_task-nback_run-01_desc-preproc_space-MNI152NLin2009cAsym_brainmask.nii',\n",
       " '/home/yoh/proj/bids/pybids/bids/tests/data/synthetic/derivatives/fmriprep/sub-05/ses-01/func/sub-05_ses-01_task-nback_run-01_desc-preproc_space-MNI152NLin2009cAsym_brainmask.nii.gz',\n",
       " '/home/yoh/proj/bids/pybids/bids/tests/data/synthetic/derivatives/fmriprep/sub-05/ses-01/func/sub-05_ses-01_task-nback_run-01_desc-preproc_space-T1w_bold.nii',\n",
       " '/home/yoh/proj/bids/pybids/bids/tests/data/synthetic/derivatives/fmriprep/sub-05/ses-01/func/sub-05_ses-01_task-nback_run-01_desc-preproc_space-T1w_bold.nii.gz',\n",
       " '/home/yoh/proj/bids/pybids/bids/tests/data/synthetic/derivatives/fmriprep/sub-05/ses-01/func/sub-05_ses-01_task-nback_run-01_desc-preproc_space-T1w_brainmask.nii',\n",
       " '/home/yoh/proj/bids/pybids/bids/tests/data/synthetic/derivatives/fmriprep/sub-05/ses-01/func/sub-05_ses-01_task-nback_run-01_desc-preproc_space-T1w_brainmask.nii.gz',\n",
       " '/home/yoh/proj/bids/pybids/bids/tests/data/synthetic/derivatives/fmriprep/sub-05/ses-01/func/sub-05_ses-01_task-nback_run-02_confounds.tsv.gz',\n",
       " '/home/yoh/proj/bids/pybids/bids/tests/data/synthetic/derivatives/fmriprep/sub-05/ses-01/func/sub-05_ses-01_task-nback_run-02_desc-preproc_space-MNI152NLin2009cAsym_bold.nii',\n",
       " '/home/yoh/proj/bids/pybids/bids/tests/data/synthetic/derivatives/fmriprep/sub-05/ses-01/func/sub-05_ses-01_task-nback_run-02_desc-preproc_space-MNI152NLin2009cAsym_bold.nii.gz',\n",
       " '/home/yoh/proj/bids/pybids/bids/tests/data/synthetic/derivatives/fmriprep/sub-05/ses-01/func/sub-05_ses-01_task-nback_run-02_desc-preproc_space-MNI152NLin2009cAsym_brainmask.nii',\n",
       " '/home/yoh/proj/bids/pybids/bids/tests/data/synthetic/derivatives/fmriprep/sub-05/ses-01/func/sub-05_ses-01_task-nback_run-02_desc-preproc_space-MNI152NLin2009cAsym_brainmask.nii.gz',\n",
       " '/home/yoh/proj/bids/pybids/bids/tests/data/synthetic/derivatives/fmriprep/sub-05/ses-01/func/sub-05_ses-01_task-nback_run-02_desc-preproc_space-T1w_bold.nii',\n",
       " '/home/yoh/proj/bids/pybids/bids/tests/data/synthetic/derivatives/fmriprep/sub-05/ses-01/func/sub-05_ses-01_task-nback_run-02_desc-preproc_space-T1w_bold.nii.gz',\n",
       " '/home/yoh/proj/bids/pybids/bids/tests/data/synthetic/derivatives/fmriprep/sub-05/ses-01/func/sub-05_ses-01_task-nback_run-02_desc-preproc_space-T1w_brainmask.nii',\n",
       " '/home/yoh/proj/bids/pybids/bids/tests/data/synthetic/derivatives/fmriprep/sub-05/ses-01/func/sub-05_ses-01_task-nback_run-02_desc-preproc_space-T1w_brainmask.nii.gz',\n",
       " '/home/yoh/proj/bids/pybids/bids/tests/data/synthetic/derivatives/fmriprep/sub-05/ses-01/func/sub-05_ses-01_task-rest_confounds.tsv.gz',\n",
       " '/home/yoh/proj/bids/pybids/bids/tests/data/synthetic/derivatives/fmriprep/sub-05/ses-01/func/sub-05_ses-01_task-rest_desc-preproc_space-MNI152NLin2009cAsym_bold.nii',\n",
       " '/home/yoh/proj/bids/pybids/bids/tests/data/synthetic/derivatives/fmriprep/sub-05/ses-01/func/sub-05_ses-01_task-rest_desc-preproc_space-MNI152NLin2009cAsym_bold.nii.gz',\n",
       " '/home/yoh/proj/bids/pybids/bids/tests/data/synthetic/derivatives/fmriprep/sub-05/ses-01/func/sub-05_ses-01_task-rest_desc-preproc_space-MNI152NLin2009cAsym_brainmask.nii',\n",
       " '/home/yoh/proj/bids/pybids/bids/tests/data/synthetic/derivatives/fmriprep/sub-05/ses-01/func/sub-05_ses-01_task-rest_desc-preproc_space-MNI152NLin2009cAsym_brainmask.nii.gz',\n",
       " '/home/yoh/proj/bids/pybids/bids/tests/data/synthetic/derivatives/fmriprep/sub-05/ses-01/func/sub-05_ses-01_task-rest_desc-preproc_space-T1w_bold.nii',\n",
       " '/home/yoh/proj/bids/pybids/bids/tests/data/synthetic/derivatives/fmriprep/sub-05/ses-01/func/sub-05_ses-01_task-rest_desc-preproc_space-T1w_bold.nii.gz',\n",
       " '/home/yoh/proj/bids/pybids/bids/tests/data/synthetic/derivatives/fmriprep/sub-05/ses-01/func/sub-05_ses-01_task-rest_desc-preproc_space-T1w_brainmask.nii',\n",
       " '/home/yoh/proj/bids/pybids/bids/tests/data/synthetic/derivatives/fmriprep/sub-05/ses-01/func/sub-05_ses-01_task-rest_desc-preproc_space-T1w_brainmask.nii.gz',\n",
       " '/home/yoh/proj/bids/pybids/bids/tests/data/synthetic/derivatives/fmriprep/sub-05/ses-02/func/sub-05_ses-02_task-nback_run-01_confounds.tsv.gz',\n",
       " '/home/yoh/proj/bids/pybids/bids/tests/data/synthetic/derivatives/fmriprep/sub-05/ses-02/func/sub-05_ses-02_task-nback_run-01_desc-preproc_space-MNI152NLin2009cAsym_bold.nii',\n",
       " '/home/yoh/proj/bids/pybids/bids/tests/data/synthetic/derivatives/fmriprep/sub-05/ses-02/func/sub-05_ses-02_task-nback_run-01_desc-preproc_space-MNI152NLin2009cAsym_bold.nii.gz',\n",
       " '/home/yoh/proj/bids/pybids/bids/tests/data/synthetic/derivatives/fmriprep/sub-05/ses-02/func/sub-05_ses-02_task-nback_run-01_desc-preproc_space-MNI152NLin2009cAsym_brainmask.nii',\n",
       " '/home/yoh/proj/bids/pybids/bids/tests/data/synthetic/derivatives/fmriprep/sub-05/ses-02/func/sub-05_ses-02_task-nback_run-01_desc-preproc_space-MNI152NLin2009cAsym_brainmask.nii.gz',\n",
       " '/home/yoh/proj/bids/pybids/bids/tests/data/synthetic/derivatives/fmriprep/sub-05/ses-02/func/sub-05_ses-02_task-nback_run-01_desc-preproc_space-T1w_bold.nii',\n",
       " '/home/yoh/proj/bids/pybids/bids/tests/data/synthetic/derivatives/fmriprep/sub-05/ses-02/func/sub-05_ses-02_task-nback_run-01_desc-preproc_space-T1w_bold.nii.gz',\n",
       " '/home/yoh/proj/bids/pybids/bids/tests/data/synthetic/derivatives/fmriprep/sub-05/ses-02/func/sub-05_ses-02_task-nback_run-01_desc-preproc_space-T1w_brainmask.nii',\n",
       " '/home/yoh/proj/bids/pybids/bids/tests/data/synthetic/derivatives/fmriprep/sub-05/ses-02/func/sub-05_ses-02_task-nback_run-01_desc-preproc_space-T1w_brainmask.nii.gz',\n",
       " '/home/yoh/proj/bids/pybids/bids/tests/data/synthetic/derivatives/fmriprep/sub-05/ses-02/func/sub-05_ses-02_task-nback_run-02_confounds.tsv.gz',\n",
       " '/home/yoh/proj/bids/pybids/bids/tests/data/synthetic/derivatives/fmriprep/sub-05/ses-02/func/sub-05_ses-02_task-nback_run-02_desc-preproc_space-MNI152NLin2009cAsym_bold.nii',\n",
       " '/home/yoh/proj/bids/pybids/bids/tests/data/synthetic/derivatives/fmriprep/sub-05/ses-02/func/sub-05_ses-02_task-nback_run-02_desc-preproc_space-MNI152NLin2009cAsym_bold.nii.gz',\n",
       " '/home/yoh/proj/bids/pybids/bids/tests/data/synthetic/derivatives/fmriprep/sub-05/ses-02/func/sub-05_ses-02_task-nback_run-02_desc-preproc_space-MNI152NLin2009cAsym_brainmask.nii',\n",
       " '/home/yoh/proj/bids/pybids/bids/tests/data/synthetic/derivatives/fmriprep/sub-05/ses-02/func/sub-05_ses-02_task-nback_run-02_desc-preproc_space-MNI152NLin2009cAsym_brainmask.nii.gz',\n",
       " '/home/yoh/proj/bids/pybids/bids/tests/data/synthetic/derivatives/fmriprep/sub-05/ses-02/func/sub-05_ses-02_task-nback_run-02_desc-preproc_space-T1w_bold.nii',\n",
       " '/home/yoh/proj/bids/pybids/bids/tests/data/synthetic/derivatives/fmriprep/sub-05/ses-02/func/sub-05_ses-02_task-nback_run-02_desc-preproc_space-T1w_bold.nii.gz',\n",
       " '/home/yoh/proj/bids/pybids/bids/tests/data/synthetic/derivatives/fmriprep/sub-05/ses-02/func/sub-05_ses-02_task-nback_run-02_desc-preproc_space-T1w_brainmask.nii',\n",
       " '/home/yoh/proj/bids/pybids/bids/tests/data/synthetic/derivatives/fmriprep/sub-05/ses-02/func/sub-05_ses-02_task-nback_run-02_desc-preproc_space-T1w_brainmask.nii.gz',\n",
       " '/home/yoh/proj/bids/pybids/bids/tests/data/synthetic/derivatives/fmriprep/sub-05/ses-02/func/sub-05_ses-02_task-rest_confounds.tsv.gz',\n",
       " '/home/yoh/proj/bids/pybids/bids/tests/data/synthetic/derivatives/fmriprep/sub-05/ses-02/func/sub-05_ses-02_task-rest_desc-preproc_space-MNI152NLin2009cAsym_bold.nii',\n",
       " '/home/yoh/proj/bids/pybids/bids/tests/data/synthetic/derivatives/fmriprep/sub-05/ses-02/func/sub-05_ses-02_task-rest_desc-preproc_space-MNI152NLin2009cAsym_bold.nii.gz',\n",
       " '/home/yoh/proj/bids/pybids/bids/tests/data/synthetic/derivatives/fmriprep/sub-05/ses-02/func/sub-05_ses-02_task-rest_desc-preproc_space-MNI152NLin2009cAsym_brainmask.nii',\n",
       " '/home/yoh/proj/bids/pybids/bids/tests/data/synthetic/derivatives/fmriprep/sub-05/ses-02/func/sub-05_ses-02_task-rest_desc-preproc_space-MNI152NLin2009cAsym_brainmask.nii.gz',\n",
       " '/home/yoh/proj/bids/pybids/bids/tests/data/synthetic/derivatives/fmriprep/sub-05/ses-02/func/sub-05_ses-02_task-rest_desc-preproc_space-T1w_bold.nii',\n",
       " '/home/yoh/proj/bids/pybids/bids/tests/data/synthetic/derivatives/fmriprep/sub-05/ses-02/func/sub-05_ses-02_task-rest_desc-preproc_space-T1w_bold.nii.gz',\n",
       " '/home/yoh/proj/bids/pybids/bids/tests/data/synthetic/derivatives/fmriprep/sub-05/ses-02/func/sub-05_ses-02_task-rest_desc-preproc_space-T1w_brainmask.nii',\n",
       " '/home/yoh/proj/bids/pybids/bids/tests/data/synthetic/derivatives/fmriprep/sub-05/ses-02/func/sub-05_ses-02_task-rest_desc-preproc_space-T1w_brainmask.nii.gz',\n",
       " '/home/yoh/proj/bids/pybids/bids/tests/data/synthetic/derivatives/fmriprep/task-nback_bold.json',\n",
       " '/home/yoh/proj/bids/pybids/bids/tests/data/synthetic/derivatives/fmriprep/task-rest_bold.json']"
      ]
     },
     "execution_count": 21,
     "metadata": {},
     "output_type": "execute_result"
    }
   ],
   "source": [
    "# Get all files in derivatives\n",
    "layout2.get(domains='derivatives', return_type='file')"
   ]
  },
  {
   "cell_type": "markdown",
   "metadata": {},
   "source": [
    "### `Dataframe` option\n",
    "the `BIDSLayout` class has built in support for pandas `DataFrames`"
   ]
  },
  {
   "cell_type": "code",
   "execution_count": 22,
   "metadata": {
    "ExecuteTime": {
     "end_time": "2018-08-01T20:05:24.275066Z",
     "start_time": "2018-08-01T20:05:24.248179Z"
    },
    "scrolled": true
   },
   "outputs": [
    {
     "data": {
      "text/html": [
       "<div>\n",
       "<style scoped>\n",
       "    .dataframe tbody tr th:only-of-type {\n",
       "        vertical-align: middle;\n",
       "    }\n",
       "\n",
       "    .dataframe tbody tr th {\n",
       "        vertical-align: top;\n",
       "    }\n",
       "\n",
       "    .dataframe thead th {\n",
       "        text-align: right;\n",
       "    }\n",
       "</style>\n",
       "<table border=\"1\" class=\"dataframe\">\n",
       "  <thead>\n",
       "    <tr style=\"text-align: right;\">\n",
       "      <th></th>\n",
       "      <th>path</th>\n",
       "      <th>acquisition</th>\n",
       "      <th>datatype</th>\n",
       "      <th>fmap</th>\n",
       "      <th>run</th>\n",
       "      <th>scans</th>\n",
       "      <th>session</th>\n",
       "      <th>subject</th>\n",
       "      <th>suffix</th>\n",
       "      <th>task</th>\n",
       "    </tr>\n",
       "  </thead>\n",
       "  <tbody>\n",
       "    <tr>\n",
       "      <th>0</th>\n",
       "      <td>/home/yoh/proj/bids/pybids/bids/tests/data/7t_...</td>\n",
       "      <td>NaN</td>\n",
       "      <td>NaN</td>\n",
       "      <td>NaN</td>\n",
       "      <td>NaN</td>\n",
       "      <td>NaN</td>\n",
       "      <td>NaN</td>\n",
       "      <td>08</td>\n",
       "      <td>sessions</td>\n",
       "      <td>NaN</td>\n",
       "    </tr>\n",
       "    <tr>\n",
       "      <th>1</th>\n",
       "      <td>/home/yoh/proj/bids/pybids/bids/tests/data/7t_...</td>\n",
       "      <td>fullbrain</td>\n",
       "      <td>func</td>\n",
       "      <td>NaN</td>\n",
       "      <td>2.0</td>\n",
       "      <td>NaN</td>\n",
       "      <td>2</td>\n",
       "      <td>08</td>\n",
       "      <td>bold</td>\n",
       "      <td>rest</td>\n",
       "    </tr>\n",
       "    <tr>\n",
       "      <th>2</th>\n",
       "      <td>/home/yoh/proj/bids/pybids/bids/tests/data/7t_...</td>\n",
       "      <td>fullbrain</td>\n",
       "      <td>func</td>\n",
       "      <td>NaN</td>\n",
       "      <td>2.0</td>\n",
       "      <td>NaN</td>\n",
       "      <td>2</td>\n",
       "      <td>08</td>\n",
       "      <td>physio</td>\n",
       "      <td>rest</td>\n",
       "    </tr>\n",
       "    <tr>\n",
       "      <th>3</th>\n",
       "      <td>/home/yoh/proj/bids/pybids/bids/tests/data/7t_...</td>\n",
       "      <td>fullbrain</td>\n",
       "      <td>func</td>\n",
       "      <td>NaN</td>\n",
       "      <td>1.0</td>\n",
       "      <td>NaN</td>\n",
       "      <td>2</td>\n",
       "      <td>08</td>\n",
       "      <td>bold</td>\n",
       "      <td>rest</td>\n",
       "    </tr>\n",
       "    <tr>\n",
       "      <th>4</th>\n",
       "      <td>/home/yoh/proj/bids/pybids/bids/tests/data/7t_...</td>\n",
       "      <td>prefrontal</td>\n",
       "      <td>func</td>\n",
       "      <td>NaN</td>\n",
       "      <td>NaN</td>\n",
       "      <td>NaN</td>\n",
       "      <td>2</td>\n",
       "      <td>08</td>\n",
       "      <td>bold</td>\n",
       "      <td>rest</td>\n",
       "    </tr>\n",
       "  </tbody>\n",
       "</table>\n",
       "</div>"
      ],
      "text/plain": [
       "                                                path acquisition datatype  \\\n",
       "0  /home/yoh/proj/bids/pybids/bids/tests/data/7t_...         NaN      NaN   \n",
       "1  /home/yoh/proj/bids/pybids/bids/tests/data/7t_...   fullbrain     func   \n",
       "2  /home/yoh/proj/bids/pybids/bids/tests/data/7t_...   fullbrain     func   \n",
       "3  /home/yoh/proj/bids/pybids/bids/tests/data/7t_...   fullbrain     func   \n",
       "4  /home/yoh/proj/bids/pybids/bids/tests/data/7t_...  prefrontal     func   \n",
       "\n",
       "  fmap  run scans session subject    suffix  task  \n",
       "0  NaN  NaN   NaN     NaN      08  sessions   NaN  \n",
       "1  NaN  2.0   NaN       2      08      bold  rest  \n",
       "2  NaN  2.0   NaN       2      08    physio  rest  \n",
       "3  NaN  1.0   NaN       2      08      bold  rest  \n",
       "4  NaN  NaN   NaN       2      08      bold  rest  "
      ]
     },
     "execution_count": 22,
     "metadata": {},
     "output_type": "execute_result"
    }
   ],
   "source": [
    "# Convert the layout to a pandas dataframe\n",
    "df = layout.as_data_frame()\n",
    "df.head()"
   ]
  },
  {
   "cell_type": "markdown",
   "metadata": {},
   "source": [
    "## Retrieving BIDS variables \n",
    "BIDS variables are stored in .tsv files at the run, session, subject, or dataset level. You can retrieve these variables with `layout.get_collections()`. The resulting objects can be converted to dataframes and merged with the layout to associate the variables with corresponding scans."
   ]
  },
  {
   "cell_type": "code",
   "execution_count": 23,
   "metadata": {
    "ExecuteTime": {
     "end_time": "2018-08-01T20:05:26.693372Z",
     "start_time": "2018-08-01T20:05:24.276799Z"
    }
   },
   "outputs": [
    {
     "data": {
      "text/html": [
       "<div>\n",
       "<style scoped>\n",
       "    .dataframe tbody tr th:only-of-type {\n",
       "        vertical-align: middle;\n",
       "    }\n",
       "\n",
       "    .dataframe tbody tr th {\n",
       "        vertical-align: top;\n",
       "    }\n",
       "\n",
       "    .dataframe thead th {\n",
       "        text-align: right;\n",
       "    }\n",
       "</style>\n",
       "<table border=\"1\" class=\"dataframe\">\n",
       "  <thead>\n",
       "    <tr style=\"text-align: right;\">\n",
       "      <th></th>\n",
       "      <th>path</th>\n",
       "      <th>acquisition</th>\n",
       "      <th>datatype</th>\n",
       "      <th>fmap</th>\n",
       "      <th>run</th>\n",
       "      <th>scans</th>\n",
       "      <th>session</th>\n",
       "      <th>subject</th>\n",
       "      <th>suffix</th>\n",
       "      <th>task</th>\n",
       "      <th>thirst</th>\n",
       "      <th>vigilance</th>\n",
       "      <th>words</th>\n",
       "    </tr>\n",
       "  </thead>\n",
       "  <tbody>\n",
       "    <tr>\n",
       "      <th>1</th>\n",
       "      <td>/home/yoh/proj/bids/pybids/bids/tests/data/7t_...</td>\n",
       "      <td>fullbrain</td>\n",
       "      <td>func</td>\n",
       "      <td>NaN</td>\n",
       "      <td>2.0</td>\n",
       "      <td>NaN</td>\n",
       "      <td>2</td>\n",
       "      <td>08</td>\n",
       "      <td>bold</td>\n",
       "      <td>rest</td>\n",
       "      <td>6.0</td>\n",
       "      <td>4.0</td>\n",
       "      <td>35.0</td>\n",
       "    </tr>\n",
       "    <tr>\n",
       "      <th>2</th>\n",
       "      <td>/home/yoh/proj/bids/pybids/bids/tests/data/7t_...</td>\n",
       "      <td>fullbrain</td>\n",
       "      <td>func</td>\n",
       "      <td>NaN</td>\n",
       "      <td>2.0</td>\n",
       "      <td>NaN</td>\n",
       "      <td>2</td>\n",
       "      <td>08</td>\n",
       "      <td>physio</td>\n",
       "      <td>rest</td>\n",
       "      <td>6.0</td>\n",
       "      <td>4.0</td>\n",
       "      <td>35.0</td>\n",
       "    </tr>\n",
       "    <tr>\n",
       "      <th>3</th>\n",
       "      <td>/home/yoh/proj/bids/pybids/bids/tests/data/7t_...</td>\n",
       "      <td>fullbrain</td>\n",
       "      <td>func</td>\n",
       "      <td>NaN</td>\n",
       "      <td>1.0</td>\n",
       "      <td>NaN</td>\n",
       "      <td>2</td>\n",
       "      <td>08</td>\n",
       "      <td>bold</td>\n",
       "      <td>rest</td>\n",
       "      <td>6.0</td>\n",
       "      <td>4.0</td>\n",
       "      <td>35.0</td>\n",
       "    </tr>\n",
       "    <tr>\n",
       "      <th>4</th>\n",
       "      <td>/home/yoh/proj/bids/pybids/bids/tests/data/7t_...</td>\n",
       "      <td>prefrontal</td>\n",
       "      <td>func</td>\n",
       "      <td>NaN</td>\n",
       "      <td>NaN</td>\n",
       "      <td>NaN</td>\n",
       "      <td>2</td>\n",
       "      <td>08</td>\n",
       "      <td>bold</td>\n",
       "      <td>rest</td>\n",
       "      <td>6.0</td>\n",
       "      <td>4.0</td>\n",
       "      <td>35.0</td>\n",
       "    </tr>\n",
       "    <tr>\n",
       "      <th>5</th>\n",
       "      <td>/home/yoh/proj/bids/pybids/bids/tests/data/7t_...</td>\n",
       "      <td>prefrontal</td>\n",
       "      <td>func</td>\n",
       "      <td>NaN</td>\n",
       "      <td>NaN</td>\n",
       "      <td>NaN</td>\n",
       "      <td>2</td>\n",
       "      <td>08</td>\n",
       "      <td>physio</td>\n",
       "      <td>rest</td>\n",
       "      <td>6.0</td>\n",
       "      <td>4.0</td>\n",
       "      <td>35.0</td>\n",
       "    </tr>\n",
       "  </tbody>\n",
       "</table>\n",
       "</div>"
      ],
      "text/plain": [
       "                                                path acquisition datatype  \\\n",
       "1  /home/yoh/proj/bids/pybids/bids/tests/data/7t_...   fullbrain     func   \n",
       "2  /home/yoh/proj/bids/pybids/bids/tests/data/7t_...   fullbrain     func   \n",
       "3  /home/yoh/proj/bids/pybids/bids/tests/data/7t_...   fullbrain     func   \n",
       "4  /home/yoh/proj/bids/pybids/bids/tests/data/7t_...  prefrontal     func   \n",
       "5  /home/yoh/proj/bids/pybids/bids/tests/data/7t_...  prefrontal     func   \n",
       "\n",
       "  fmap  run scans session subject  suffix  task  thirst  vigilance  words  \n",
       "1  NaN  2.0   NaN       2      08    bold  rest     6.0        4.0   35.0  \n",
       "2  NaN  2.0   NaN       2      08  physio  rest     6.0        4.0   35.0  \n",
       "3  NaN  1.0   NaN       2      08    bold  rest     6.0        4.0   35.0  \n",
       "4  NaN  NaN   NaN       2      08    bold  rest     6.0        4.0   35.0  \n",
       "5  NaN  NaN   NaN       2      08  physio  rest     6.0        4.0   35.0  "
      ]
     },
     "execution_count": 23,
     "metadata": {},
     "output_type": "execute_result"
    }
   ],
   "source": [
    "# Get subject variables as a dataframe and merge them back in with the layout\n",
    "subj_df = layout.get_collections(level='subject', merge=True, variables=['thirst','vigilance','words']).to_df()\n",
    "# The query function here limits results to only files that have a modality defined\n",
    "df.merge(subj_df, how='left', on=['session','subject']).query('datatype.notnull()', engine='python').head()"
   ]
  },
  {
   "cell_type": "code",
   "execution_count": 24,
   "metadata": {
    "ExecuteTime": {
     "end_time": "2018-08-01T20:05:27.748194Z",
     "start_time": "2018-08-01T20:05:26.695377Z"
    },
    "scrolled": true
   },
   "outputs": [
    {
     "data": {
      "text/html": [
       "<div>\n",
       "<style scoped>\n",
       "    .dataframe tbody tr th:only-of-type {\n",
       "        vertical-align: middle;\n",
       "    }\n",
       "\n",
       "    .dataframe tbody tr th {\n",
       "        vertical-align: top;\n",
       "    }\n",
       "\n",
       "    .dataframe thead th {\n",
       "        text-align: right;\n",
       "    }\n",
       "</style>\n",
       "<table border=\"1\" class=\"dataframe\">\n",
       "  <thead>\n",
       "    <tr style=\"text-align: right;\">\n",
       "      <th></th>\n",
       "      <th>path</th>\n",
       "      <th>acquisition_x</th>\n",
       "      <th>datatype</th>\n",
       "      <th>fmap</th>\n",
       "      <th>run</th>\n",
       "      <th>scans</th>\n",
       "      <th>session</th>\n",
       "      <th>subject</th>\n",
       "      <th>suffix_x</th>\n",
       "      <th>task</th>\n",
       "      <th>suffix_y</th>\n",
       "      <th>acquisition_y</th>\n",
       "      <th>future</th>\n",
       "      <th>past</th>\n",
       "    </tr>\n",
       "  </thead>\n",
       "  <tbody>\n",
       "    <tr>\n",
       "      <th>1</th>\n",
       "      <td>/home/yoh/proj/bids/pybids/bids/tests/data/7t_...</td>\n",
       "      <td>fullbrain</td>\n",
       "      <td>func</td>\n",
       "      <td>NaN</td>\n",
       "      <td>2.0</td>\n",
       "      <td>NaN</td>\n",
       "      <td>2</td>\n",
       "      <td>08</td>\n",
       "      <td>bold</td>\n",
       "      <td>rest</td>\n",
       "      <td>bold</td>\n",
       "      <td>fullbrain</td>\n",
       "      <td>75.0</td>\n",
       "      <td>60.0</td>\n",
       "    </tr>\n",
       "    <tr>\n",
       "      <th>2</th>\n",
       "      <td>/home/yoh/proj/bids/pybids/bids/tests/data/7t_...</td>\n",
       "      <td>fullbrain</td>\n",
       "      <td>func</td>\n",
       "      <td>NaN</td>\n",
       "      <td>2.0</td>\n",
       "      <td>NaN</td>\n",
       "      <td>2</td>\n",
       "      <td>08</td>\n",
       "      <td>physio</td>\n",
       "      <td>rest</td>\n",
       "      <td>bold</td>\n",
       "      <td>fullbrain</td>\n",
       "      <td>75.0</td>\n",
       "      <td>60.0</td>\n",
       "    </tr>\n",
       "    <tr>\n",
       "      <th>3</th>\n",
       "      <td>/home/yoh/proj/bids/pybids/bids/tests/data/7t_...</td>\n",
       "      <td>fullbrain</td>\n",
       "      <td>func</td>\n",
       "      <td>NaN</td>\n",
       "      <td>1.0</td>\n",
       "      <td>NaN</td>\n",
       "      <td>2</td>\n",
       "      <td>08</td>\n",
       "      <td>bold</td>\n",
       "      <td>rest</td>\n",
       "      <td>bold</td>\n",
       "      <td>fullbrain</td>\n",
       "      <td>65.0</td>\n",
       "      <td>65.0</td>\n",
       "    </tr>\n",
       "    <tr>\n",
       "      <th>4</th>\n",
       "      <td>/home/yoh/proj/bids/pybids/bids/tests/data/7t_...</td>\n",
       "      <td>prefrontal</td>\n",
       "      <td>func</td>\n",
       "      <td>NaN</td>\n",
       "      <td>NaN</td>\n",
       "      <td>NaN</td>\n",
       "      <td>2</td>\n",
       "      <td>08</td>\n",
       "      <td>bold</td>\n",
       "      <td>rest</td>\n",
       "      <td>NaN</td>\n",
       "      <td>NaN</td>\n",
       "      <td>NaN</td>\n",
       "      <td>NaN</td>\n",
       "    </tr>\n",
       "    <tr>\n",
       "      <th>5</th>\n",
       "      <td>/home/yoh/proj/bids/pybids/bids/tests/data/7t_...</td>\n",
       "      <td>prefrontal</td>\n",
       "      <td>func</td>\n",
       "      <td>NaN</td>\n",
       "      <td>NaN</td>\n",
       "      <td>NaN</td>\n",
       "      <td>2</td>\n",
       "      <td>08</td>\n",
       "      <td>physio</td>\n",
       "      <td>rest</td>\n",
       "      <td>NaN</td>\n",
       "      <td>NaN</td>\n",
       "      <td>NaN</td>\n",
       "      <td>NaN</td>\n",
       "    </tr>\n",
       "  </tbody>\n",
       "</table>\n",
       "</div>"
      ],
      "text/plain": [
       "                                                path acquisition_x datatype  \\\n",
       "1  /home/yoh/proj/bids/pybids/bids/tests/data/7t_...     fullbrain     func   \n",
       "2  /home/yoh/proj/bids/pybids/bids/tests/data/7t_...     fullbrain     func   \n",
       "3  /home/yoh/proj/bids/pybids/bids/tests/data/7t_...     fullbrain     func   \n",
       "4  /home/yoh/proj/bids/pybids/bids/tests/data/7t_...    prefrontal     func   \n",
       "5  /home/yoh/proj/bids/pybids/bids/tests/data/7t_...    prefrontal     func   \n",
       "\n",
       "  fmap  run scans session subject suffix_x  task suffix_y acquisition_y  \\\n",
       "1  NaN  2.0   NaN       2      08     bold  rest     bold     fullbrain   \n",
       "2  NaN  2.0   NaN       2      08   physio  rest     bold     fullbrain   \n",
       "3  NaN  1.0   NaN       2      08     bold  rest     bold     fullbrain   \n",
       "4  NaN  NaN   NaN       2      08     bold  rest      NaN           NaN   \n",
       "5  NaN  NaN   NaN       2      08   physio  rest      NaN           NaN   \n",
       "\n",
       "   future  past  \n",
       "1    75.0  60.0  \n",
       "2    75.0  60.0  \n",
       "3    65.0  65.0  \n",
       "4     NaN   NaN  \n",
       "5     NaN   NaN  "
      ]
     },
     "execution_count": 24,
     "metadata": {},
     "output_type": "execute_result"
    }
   ],
   "source": [
    "# Get session variables as a dataframe and merge them back in with the layout\n",
    "ses_df =  layout.get_collections(level='session', merge=True, variables=['type','datatype','task','future','past']).to_df()\n",
    "# The query function here limits results to only files related to a resting state task \n",
    "df.merge(ses_df,how='left', on=['session','subject','run','datatype','task']).query('task==\"rest\"').head()"
   ]
  },
  {
   "cell_type": "markdown",
   "metadata": {},
   "source": [
    "## BIDSValidator\n",
    "\n",
    "`pybids` includes a BIDS validator. This can tell you if a filepath is a valid BIDS filepath as well as answering questions about what kind of data it should represent"
   ]
  },
  {
   "cell_type": "code",
   "execution_count": 25,
   "metadata": {
    "ExecuteTime": {
     "end_time": "2018-08-01T20:05:27.763448Z",
     "start_time": "2018-08-01T20:05:27.749652Z"
    }
   },
   "outputs": [
    {
     "data": {
      "text/plain": [
       "True"
      ]
     },
     "execution_count": 25,
     "metadata": {},
     "output_type": "execute_result"
    }
   ],
   "source": [
    "# Note that when using the bids validator, the filepath MUST be relative to the top level bids directory\n",
    "validator = bids.layout.BIDSValidator()\n",
    "validator.is_bids('/sub-02/ses-01/anat/sub-02_ses-01_T2w.nii.gz')"
   ]
  },
  {
   "cell_type": "code",
   "execution_count": 26,
   "metadata": {
    "ExecuteTime": {
     "end_time": "2018-08-01T20:05:27.773052Z",
     "start_time": "2018-08-01T20:05:27.765263Z"
    }
   },
   "outputs": [
    {
     "data": {
      "text/plain": [
       "True"
      ]
     },
     "execution_count": 26,
     "metadata": {},
     "output_type": "execute_result"
    }
   ],
   "source": [
    "# Can decide if a filepath represents a file part of the specification\n",
    "validator.is_file('/sub-02/ses-01/anat/sub-02_ses-01_T2w.json')"
   ]
  },
  {
   "cell_type": "code",
   "execution_count": 27,
   "metadata": {},
   "outputs": [
    {
     "data": {
      "text/plain": [
       "True"
      ]
     },
     "execution_count": 27,
     "metadata": {},
     "output_type": "execute_result"
    }
   ],
   "source": [
    "# Can check if file a dataset top\n",
    "validator.is_top_level('/dataset_description.json')"
   ]
  },
  {
   "cell_type": "code",
   "execution_count": 28,
   "metadata": {},
   "outputs": [
    {
     "data": {
      "text/plain": [
       "False"
      ]
     },
     "execution_count": 28,
     "metadata": {},
     "output_type": "execute_result"
    }
   ],
   "source": [
    "# or subject (or session) level\n",
    "validator.is_subject_level('/dataset_description.json')"
   ]
  },
  {
   "cell_type": "code",
   "execution_count": 29,
   "metadata": {},
   "outputs": [
    {
     "data": {
      "text/plain": [
       "True"
      ]
     },
     "execution_count": 29,
     "metadata": {},
     "output_type": "execute_result"
    }
   ],
   "source": [
    "validator.is_session_level('/sub-02/ses-01/sub-02_ses-01_scans.json')"
   ]
  },
  {
   "cell_type": "code",
   "execution_count": 30,
   "metadata": {
    "ExecuteTime": {
     "end_time": "2018-08-01T20:05:27.780022Z",
     "start_time": "2018-08-01T20:05:27.775281Z"
    }
   },
   "outputs": [
    {
     "data": {
      "text/plain": [
       "False"
      ]
     },
     "execution_count": 30,
     "metadata": {},
     "output_type": "execute_result"
    }
   ],
   "source": [
    "# Can decide if a filepath represents phenotypic data\n",
    "validator.is_phenotypic('/sub-02/ses-01/anat/sub-02_ses-01_T2w.nii.gz')"
   ]
  },
  {
   "cell_type": "markdown",
   "metadata": {},
   "source": [
    "And so on. See the [docs](https://bids-standard.github.io/pybids/generated/bids.grabbids.BIDSValidator.html#bids-grabbids-bidsvalidator) for the full list of `BIDSValidator` options."
   ]
  }
 ],
 "metadata": {
  "kernelspec": {
   "display_name": "pybids-venv3",
   "language": "python",
   "name": "pybids-venv3"
  },
  "language_info": {
   "codemirror_mode": {
    "name": "ipython",
    "version": 3
   },
   "file_extension": ".py",
   "mimetype": "text/x-python",
   "name": "python",
   "nbconvert_exporter": "python",
   "pygments_lexer": "ipython3",
   "version": "3.6.5"
  },
  "toc": {
   "nav_menu": {},
   "number_sections": true,
   "sideBar": true,
   "skip_h1_title": false,
   "toc_cell": false,
   "toc_position": {},
   "toc_section_display": "block",
   "toc_window_display": false
  }
 },
 "nbformat": 4,
 "nbformat_minor": 2
}
